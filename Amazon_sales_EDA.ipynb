{
  "nbformat": 4,
  "nbformat_minor": 0,
  "metadata": {
    "colab": {
      "provenance": [],
      "authorship_tag": "ABX9TyPG8WUTo2iWSDXH2BvAahEp"
    },
    "kernelspec": {
      "name": "python3",
      "display_name": "Python 3"
    },
    "language_info": {
      "name": "python"
    }
  },
  "cells": [
    {
      "cell_type": "markdown",
      "source": [
        "# **Amazon Sales EDA**\n",
        "\n"
      ],
      "metadata": {
        "id": "F1_CiT66SqCU"
      }
    },
    {
      "cell_type": "markdown",
      "source": [
        "### Exploratory Data Analysis (EDA) is the process of examining and analyzing data sets to summarize their main characteristics using visual methods and descriptive statistics. The goal of EDA is to gain an understanding of the data and to identify patterns, relationships, and anomalies that can provide insights into the underlying structure of the data.\n",
        "\n",
        "### The dataset(Source,Content,Use)\n",
        "  *   Link below\n",
        "  *   Contains data about sales of Amazon\n",
        "  *   Can be used to get insights into the various parameters that affect the sales.\n",
        "\n",
        "###Dataset: https://data.world/anilsharma87/sales/file/Amazon%20Sale%20Report.xlsx  \n",
        "\n",
        "The dataset consists of 128974 rows\n",
        "\n",
        "For dataset description refer the report\n",
        "\n",
        "Goal - Increase revenue and improve product category performance\n",
        "\n",
        "Refer the Report for the following details:\n",
        "\n",
        "1.    Business problem/statement/Agenda\n",
        "2.    Assumptions\n",
        "3.    Research questions\n",
        "4.    Hypothesis\n",
        "5.    Analysis and findings\n",
        "6.    Suggestions\n"
      ],
      "metadata": {
        "id": "A9_qZ5ogbeao"
      }
    },
    {
      "cell_type": "markdown",
      "source": [
        "##Step 1: Select and Download the data"
      ],
      "metadata": {
        "id": "O6F61d_lkUxr"
      }
    },
    {
      "cell_type": "code",
      "source": [
        "from google.colab import files\n",
        "files.upload()"
      ],
      "metadata": {
        "id": "bYSyyNMonrE0"
      },
      "execution_count": null,
      "outputs": []
    },
    {
      "cell_type": "code",
      "source": [
        "!mkdir ~/.kaggle\n",
        "!cp kaggle.json ~/.kaggle/\n",
        "!chmod 600 ~/.kaggle/kaggle.json\n",
        "!kaggle datasets download -d thedevastator/unlock-profits-with-e-commerce-sales-data"
      ],
      "metadata": {
        "id": "BhDTTdzrkUOv",
        "colab": {
          "base_uri": "https://localhost:8080/"
        },
        "outputId": "a7338cf5-94ad-4d9e-8c0a-948ead1a9274"
      },
      "execution_count": 2,
      "outputs": [
        {
          "output_type": "stream",
          "name": "stdout",
          "text": [
            "Downloading unlock-profits-with-e-commerce-sales-data.zip to /content\n",
            "\r  0% 0.00/6.33M [00:00<?, ?B/s]\n",
            "\r100% 6.33M/6.33M [00:00<00:00, 76.7MB/s]\n"
          ]
        }
      ]
    },
    {
      "cell_type": "code",
      "source": [
        "!unzip \\*.zip"
      ],
      "metadata": {
        "colab": {
          "base_uri": "https://localhost:8080/"
        },
        "id": "8AVWjwgPn7GT",
        "outputId": "6b2f7173-2202-4100-a8b3-3f8aba99bcaa"
      },
      "execution_count": 3,
      "outputs": [
        {
          "output_type": "stream",
          "name": "stdout",
          "text": [
            "Archive:  unlock-profits-with-e-commerce-sales-data.zip\n",
            "  inflating: Amazon Sale Report.csv  \n",
            "  inflating: Cloud Warehouse Compersion Chart.csv  \n",
            "  inflating: Expense IIGF.csv        \n",
            "  inflating: International sale Report.csv  \n",
            "  inflating: May-2022.csv            \n",
            "  inflating: P  L March 2021.csv     \n",
            "  inflating: Sale Report.csv         \n"
          ]
        }
      ]
    },
    {
      "cell_type": "markdown",
      "source": [
        "## Step 2: Data preparation and cleaning\n",
        "\n",
        "\n",
        "1.   Load the file using pandas\n",
        "2.   Look at some information about the data and columns\n",
        "3.   Fix any missing or incorrect values\n",
        "\n"
      ],
      "metadata": {
        "id": "TfCzVMIZoDHF"
      }
    },
    {
      "cell_type": "code",
      "source": [
        "# importing the necessary libraries\n",
        "import pandas as pd\n",
        "import numpy as np\n",
        "import matplotlib.pyplot as plt\n",
        "import seaborn as sns"
      ],
      "metadata": {
        "id": "DfqksqJ9oiP1"
      },
      "execution_count": 4,
      "outputs": []
    },
    {
      "cell_type": "code",
      "source": [
        "df= pd.read_csv(\"/content/Amazon Sale Report.csv\")"
      ],
      "metadata": {
        "colab": {
          "base_uri": "https://localhost:8080/"
        },
        "id": "11EYLr3ZprrZ",
        "outputId": "4e6e4cfa-040e-45c2-8fb9-5b16ffb54823"
      },
      "execution_count": 5,
      "outputs": [
        {
          "output_type": "stream",
          "name": "stderr",
          "text": [
            "<ipython-input-5-98c1c05dfed4>:1: DtypeWarning: Columns (23) have mixed types. Specify dtype option on import or set low_memory=False.\n",
            "  df= pd.read_csv(\"/content/Amazon Sale Report.csv\")\n"
          ]
        }
      ]
    },
    {
      "cell_type": "code",
      "source": [
        "df.head()"
      ],
      "metadata": {
        "colab": {
          "base_uri": "https://localhost:8080/",
          "height": 577
        },
        "id": "jveMpdy8pz27",
        "outputId": "4d7636e4-4d27-438d-ff65-96a5fedd242b"
      },
      "execution_count": 6,
      "outputs": [
        {
          "output_type": "execute_result",
          "data": {
            "text/plain": [
              "   index             Order ID      Date                        Status  \\\n",
              "0      0  405-8078784-5731545  04-30-22                     Cancelled   \n",
              "1      1  171-9198151-1101146  04-30-22  Shipped - Delivered to Buyer   \n",
              "2      2  404-0687676-7273146  04-30-22                       Shipped   \n",
              "3      3  403-9615377-8133951  04-30-22                     Cancelled   \n",
              "4      4  407-1069790-7240320  04-30-22                       Shipped   \n",
              "\n",
              "  Fulfilment Sales Channel  ship-service-level    Style              SKU  \\\n",
              "0   Merchant      Amazon.in           Standard   SET389   SET389-KR-NP-S   \n",
              "1   Merchant      Amazon.in           Standard  JNE3781  JNE3781-KR-XXXL   \n",
              "2     Amazon      Amazon.in          Expedited  JNE3371    JNE3371-KR-XL   \n",
              "3   Merchant      Amazon.in           Standard    J0341       J0341-DR-L   \n",
              "4     Amazon      Amazon.in          Expedited  JNE3671  JNE3671-TU-XXXL   \n",
              "\n",
              "        Category  ... currency  Amount    ship-city   ship-state  \\\n",
              "0            Set  ...      INR  647.62       MUMBAI  MAHARASHTRA   \n",
              "1          kurta  ...      INR  406.00    BENGALURU    KARNATAKA   \n",
              "2          kurta  ...      INR  329.00  NAVI MUMBAI  MAHARASHTRA   \n",
              "3  Western Dress  ...      INR  753.33   PUDUCHERRY   PUDUCHERRY   \n",
              "4            Top  ...      INR  574.00      CHENNAI   TAMIL NADU   \n",
              "\n",
              "  ship-postal-code  ship-country  \\\n",
              "0         400081.0            IN   \n",
              "1         560085.0            IN   \n",
              "2         410210.0            IN   \n",
              "3         605008.0            IN   \n",
              "4         600073.0            IN   \n",
              "\n",
              "                                       promotion-ids    B2B  fulfilled-by  \\\n",
              "0                                                NaN  False     Easy Ship   \n",
              "1  Amazon PLCC Free-Financing Universal Merchant ...  False     Easy Ship   \n",
              "2       IN Core Free Shipping 2015/04/08 23-48-5-108   True           NaN   \n",
              "3                                                NaN  False     Easy Ship   \n",
              "4                                                NaN  False           NaN   \n",
              "\n",
              "  Unnamed: 22  \n",
              "0         NaN  \n",
              "1         NaN  \n",
              "2         NaN  \n",
              "3         NaN  \n",
              "4         NaN  \n",
              "\n",
              "[5 rows x 24 columns]"
            ],
            "text/html": [
              "\n",
              "  <div id=\"df-daddf0a8-8dcd-41b7-832c-ec5f201c5262\">\n",
              "    <div class=\"colab-df-container\">\n",
              "      <div>\n",
              "<style scoped>\n",
              "    .dataframe tbody tr th:only-of-type {\n",
              "        vertical-align: middle;\n",
              "    }\n",
              "\n",
              "    .dataframe tbody tr th {\n",
              "        vertical-align: top;\n",
              "    }\n",
              "\n",
              "    .dataframe thead th {\n",
              "        text-align: right;\n",
              "    }\n",
              "</style>\n",
              "<table border=\"1\" class=\"dataframe\">\n",
              "  <thead>\n",
              "    <tr style=\"text-align: right;\">\n",
              "      <th></th>\n",
              "      <th>index</th>\n",
              "      <th>Order ID</th>\n",
              "      <th>Date</th>\n",
              "      <th>Status</th>\n",
              "      <th>Fulfilment</th>\n",
              "      <th>Sales Channel</th>\n",
              "      <th>ship-service-level</th>\n",
              "      <th>Style</th>\n",
              "      <th>SKU</th>\n",
              "      <th>Category</th>\n",
              "      <th>...</th>\n",
              "      <th>currency</th>\n",
              "      <th>Amount</th>\n",
              "      <th>ship-city</th>\n",
              "      <th>ship-state</th>\n",
              "      <th>ship-postal-code</th>\n",
              "      <th>ship-country</th>\n",
              "      <th>promotion-ids</th>\n",
              "      <th>B2B</th>\n",
              "      <th>fulfilled-by</th>\n",
              "      <th>Unnamed: 22</th>\n",
              "    </tr>\n",
              "  </thead>\n",
              "  <tbody>\n",
              "    <tr>\n",
              "      <th>0</th>\n",
              "      <td>0</td>\n",
              "      <td>405-8078784-5731545</td>\n",
              "      <td>04-30-22</td>\n",
              "      <td>Cancelled</td>\n",
              "      <td>Merchant</td>\n",
              "      <td>Amazon.in</td>\n",
              "      <td>Standard</td>\n",
              "      <td>SET389</td>\n",
              "      <td>SET389-KR-NP-S</td>\n",
              "      <td>Set</td>\n",
              "      <td>...</td>\n",
              "      <td>INR</td>\n",
              "      <td>647.62</td>\n",
              "      <td>MUMBAI</td>\n",
              "      <td>MAHARASHTRA</td>\n",
              "      <td>400081.0</td>\n",
              "      <td>IN</td>\n",
              "      <td>NaN</td>\n",
              "      <td>False</td>\n",
              "      <td>Easy Ship</td>\n",
              "      <td>NaN</td>\n",
              "    </tr>\n",
              "    <tr>\n",
              "      <th>1</th>\n",
              "      <td>1</td>\n",
              "      <td>171-9198151-1101146</td>\n",
              "      <td>04-30-22</td>\n",
              "      <td>Shipped - Delivered to Buyer</td>\n",
              "      <td>Merchant</td>\n",
              "      <td>Amazon.in</td>\n",
              "      <td>Standard</td>\n",
              "      <td>JNE3781</td>\n",
              "      <td>JNE3781-KR-XXXL</td>\n",
              "      <td>kurta</td>\n",
              "      <td>...</td>\n",
              "      <td>INR</td>\n",
              "      <td>406.00</td>\n",
              "      <td>BENGALURU</td>\n",
              "      <td>KARNATAKA</td>\n",
              "      <td>560085.0</td>\n",
              "      <td>IN</td>\n",
              "      <td>Amazon PLCC Free-Financing Universal Merchant ...</td>\n",
              "      <td>False</td>\n",
              "      <td>Easy Ship</td>\n",
              "      <td>NaN</td>\n",
              "    </tr>\n",
              "    <tr>\n",
              "      <th>2</th>\n",
              "      <td>2</td>\n",
              "      <td>404-0687676-7273146</td>\n",
              "      <td>04-30-22</td>\n",
              "      <td>Shipped</td>\n",
              "      <td>Amazon</td>\n",
              "      <td>Amazon.in</td>\n",
              "      <td>Expedited</td>\n",
              "      <td>JNE3371</td>\n",
              "      <td>JNE3371-KR-XL</td>\n",
              "      <td>kurta</td>\n",
              "      <td>...</td>\n",
              "      <td>INR</td>\n",
              "      <td>329.00</td>\n",
              "      <td>NAVI MUMBAI</td>\n",
              "      <td>MAHARASHTRA</td>\n",
              "      <td>410210.0</td>\n",
              "      <td>IN</td>\n",
              "      <td>IN Core Free Shipping 2015/04/08 23-48-5-108</td>\n",
              "      <td>True</td>\n",
              "      <td>NaN</td>\n",
              "      <td>NaN</td>\n",
              "    </tr>\n",
              "    <tr>\n",
              "      <th>3</th>\n",
              "      <td>3</td>\n",
              "      <td>403-9615377-8133951</td>\n",
              "      <td>04-30-22</td>\n",
              "      <td>Cancelled</td>\n",
              "      <td>Merchant</td>\n",
              "      <td>Amazon.in</td>\n",
              "      <td>Standard</td>\n",
              "      <td>J0341</td>\n",
              "      <td>J0341-DR-L</td>\n",
              "      <td>Western Dress</td>\n",
              "      <td>...</td>\n",
              "      <td>INR</td>\n",
              "      <td>753.33</td>\n",
              "      <td>PUDUCHERRY</td>\n",
              "      <td>PUDUCHERRY</td>\n",
              "      <td>605008.0</td>\n",
              "      <td>IN</td>\n",
              "      <td>NaN</td>\n",
              "      <td>False</td>\n",
              "      <td>Easy Ship</td>\n",
              "      <td>NaN</td>\n",
              "    </tr>\n",
              "    <tr>\n",
              "      <th>4</th>\n",
              "      <td>4</td>\n",
              "      <td>407-1069790-7240320</td>\n",
              "      <td>04-30-22</td>\n",
              "      <td>Shipped</td>\n",
              "      <td>Amazon</td>\n",
              "      <td>Amazon.in</td>\n",
              "      <td>Expedited</td>\n",
              "      <td>JNE3671</td>\n",
              "      <td>JNE3671-TU-XXXL</td>\n",
              "      <td>Top</td>\n",
              "      <td>...</td>\n",
              "      <td>INR</td>\n",
              "      <td>574.00</td>\n",
              "      <td>CHENNAI</td>\n",
              "      <td>TAMIL NADU</td>\n",
              "      <td>600073.0</td>\n",
              "      <td>IN</td>\n",
              "      <td>NaN</td>\n",
              "      <td>False</td>\n",
              "      <td>NaN</td>\n",
              "      <td>NaN</td>\n",
              "    </tr>\n",
              "  </tbody>\n",
              "</table>\n",
              "<p>5 rows × 24 columns</p>\n",
              "</div>\n",
              "      <button class=\"colab-df-convert\" onclick=\"convertToInteractive('df-daddf0a8-8dcd-41b7-832c-ec5f201c5262')\"\n",
              "              title=\"Convert this dataframe to an interactive table.\"\n",
              "              style=\"display:none;\">\n",
              "        \n",
              "  <svg xmlns=\"http://www.w3.org/2000/svg\" height=\"24px\"viewBox=\"0 0 24 24\"\n",
              "       width=\"24px\">\n",
              "    <path d=\"M0 0h24v24H0V0z\" fill=\"none\"/>\n",
              "    <path d=\"M18.56 5.44l.94 2.06.94-2.06 2.06-.94-2.06-.94-.94-2.06-.94 2.06-2.06.94zm-11 1L8.5 8.5l.94-2.06 2.06-.94-2.06-.94L8.5 2.5l-.94 2.06-2.06.94zm10 10l.94 2.06.94-2.06 2.06-.94-2.06-.94-.94-2.06-.94 2.06-2.06.94z\"/><path d=\"M17.41 7.96l-1.37-1.37c-.4-.4-.92-.59-1.43-.59-.52 0-1.04.2-1.43.59L10.3 9.45l-7.72 7.72c-.78.78-.78 2.05 0 2.83L4 21.41c.39.39.9.59 1.41.59.51 0 1.02-.2 1.41-.59l7.78-7.78 2.81-2.81c.8-.78.8-2.07 0-2.86zM5.41 20L4 18.59l7.72-7.72 1.47 1.35L5.41 20z\"/>\n",
              "  </svg>\n",
              "      </button>\n",
              "      \n",
              "  <style>\n",
              "    .colab-df-container {\n",
              "      display:flex;\n",
              "      flex-wrap:wrap;\n",
              "      gap: 12px;\n",
              "    }\n",
              "\n",
              "    .colab-df-convert {\n",
              "      background-color: #E8F0FE;\n",
              "      border: none;\n",
              "      border-radius: 50%;\n",
              "      cursor: pointer;\n",
              "      display: none;\n",
              "      fill: #1967D2;\n",
              "      height: 32px;\n",
              "      padding: 0 0 0 0;\n",
              "      width: 32px;\n",
              "    }\n",
              "\n",
              "    .colab-df-convert:hover {\n",
              "      background-color: #E2EBFA;\n",
              "      box-shadow: 0px 1px 2px rgba(60, 64, 67, 0.3), 0px 1px 3px 1px rgba(60, 64, 67, 0.15);\n",
              "      fill: #174EA6;\n",
              "    }\n",
              "\n",
              "    [theme=dark] .colab-df-convert {\n",
              "      background-color: #3B4455;\n",
              "      fill: #D2E3FC;\n",
              "    }\n",
              "\n",
              "    [theme=dark] .colab-df-convert:hover {\n",
              "      background-color: #434B5C;\n",
              "      box-shadow: 0px 1px 3px 1px rgba(0, 0, 0, 0.15);\n",
              "      filter: drop-shadow(0px 1px 2px rgba(0, 0, 0, 0.3));\n",
              "      fill: #FFFFFF;\n",
              "    }\n",
              "  </style>\n",
              "\n",
              "      <script>\n",
              "        const buttonEl =\n",
              "          document.querySelector('#df-daddf0a8-8dcd-41b7-832c-ec5f201c5262 button.colab-df-convert');\n",
              "        buttonEl.style.display =\n",
              "          google.colab.kernel.accessAllowed ? 'block' : 'none';\n",
              "\n",
              "        async function convertToInteractive(key) {\n",
              "          const element = document.querySelector('#df-daddf0a8-8dcd-41b7-832c-ec5f201c5262');\n",
              "          const dataTable =\n",
              "            await google.colab.kernel.invokeFunction('convertToInteractive',\n",
              "                                                     [key], {});\n",
              "          if (!dataTable) return;\n",
              "\n",
              "          const docLinkHtml = 'Like what you see? Visit the ' +\n",
              "            '<a target=\"_blank\" href=https://colab.research.google.com/notebooks/data_table.ipynb>data table notebook</a>'\n",
              "            + ' to learn more about interactive tables.';\n",
              "          element.innerHTML = '';\n",
              "          dataTable['output_type'] = 'display_data';\n",
              "          await google.colab.output.renderOutput(dataTable, element);\n",
              "          const docLink = document.createElement('div');\n",
              "          docLink.innerHTML = docLinkHtml;\n",
              "          element.appendChild(docLink);\n",
              "        }\n",
              "      </script>\n",
              "    </div>\n",
              "  </div>\n",
              "  "
            ]
          },
          "metadata": {},
          "execution_count": 6
        }
      ]
    },
    {
      "cell_type": "code",
      "source": [
        "df.shape"
      ],
      "metadata": {
        "colab": {
          "base_uri": "https://localhost:8080/"
        },
        "id": "HPkOqPibtHup",
        "outputId": "fce4d515-2d96-40fd-cae8-a659de661ff7"
      },
      "execution_count": 7,
      "outputs": [
        {
          "output_type": "execute_result",
          "data": {
            "text/plain": [
              "(128975, 24)"
            ]
          },
          "metadata": {},
          "execution_count": 7
        }
      ]
    },
    {
      "cell_type": "code",
      "source": [
        "df.columns"
      ],
      "metadata": {
        "colab": {
          "base_uri": "https://localhost:8080/"
        },
        "id": "GpLra-kjp4Dv",
        "outputId": "e6019716-4612-44f6-fbca-9bbcd76bf9f0"
      },
      "execution_count": 8,
      "outputs": [
        {
          "output_type": "execute_result",
          "data": {
            "text/plain": [
              "Index(['index', 'Order ID', 'Date', 'Status', 'Fulfilment', 'Sales Channel ',\n",
              "       'ship-service-level', 'Style', 'SKU', 'Category', 'Size', 'ASIN',\n",
              "       'Courier Status', 'Qty', 'currency', 'Amount', 'ship-city',\n",
              "       'ship-state', 'ship-postal-code', 'ship-country', 'promotion-ids',\n",
              "       'B2B', 'fulfilled-by', 'Unnamed: 22'],\n",
              "      dtype='object')"
            ]
          },
          "metadata": {},
          "execution_count": 8
        }
      ]
    },
    {
      "cell_type": "code",
      "source": [
        "df.columns.to_series()"
      ],
      "metadata": {
        "colab": {
          "base_uri": "https://localhost:8080/"
        },
        "id": "wxDQhOju2MTx",
        "outputId": "6ced672c-eb0d-424d-d0cd-70b2447eed23"
      },
      "execution_count": 9,
      "outputs": [
        {
          "output_type": "execute_result",
          "data": {
            "text/plain": [
              "index                              index\n",
              "Order ID                        Order ID\n",
              "Date                                Date\n",
              "Status                            Status\n",
              "Fulfilment                    Fulfilment\n",
              "Sales Channel             Sales Channel \n",
              "ship-service-level    ship-service-level\n",
              "Style                              Style\n",
              "SKU                                  SKU\n",
              "Category                        Category\n",
              "Size                                Size\n",
              "ASIN                                ASIN\n",
              "Courier Status            Courier Status\n",
              "Qty                                  Qty\n",
              "currency                        currency\n",
              "Amount                            Amount\n",
              "ship-city                      ship-city\n",
              "ship-state                    ship-state\n",
              "ship-postal-code        ship-postal-code\n",
              "ship-country                ship-country\n",
              "promotion-ids              promotion-ids\n",
              "B2B                                  B2B\n",
              "fulfilled-by                fulfilled-by\n",
              "Unnamed: 22                  Unnamed: 22\n",
              "dtype: object"
            ]
          },
          "metadata": {},
          "execution_count": 9
        }
      ]
    },
    {
      "cell_type": "code",
      "source": [
        "df.columns = [c.replace(' ', '_') for c in df.columns]\n",
        "df.columns = [c.replace('-', '_') for c in df.columns]\n",
        "df.columns"
      ],
      "metadata": {
        "colab": {
          "base_uri": "https://localhost:8080/"
        },
        "id": "up4Ub5nvuGZM",
        "outputId": "a4b66bd5-4308-4603-8d4b-8c460373410a"
      },
      "execution_count": 10,
      "outputs": [
        {
          "output_type": "execute_result",
          "data": {
            "text/plain": [
              "Index(['index', 'Order_ID', 'Date', 'Status', 'Fulfilment', 'Sales_Channel_',\n",
              "       'ship_service_level', 'Style', 'SKU', 'Category', 'Size', 'ASIN',\n",
              "       'Courier_Status', 'Qty', 'currency', 'Amount', 'ship_city',\n",
              "       'ship_state', 'ship_postal_code', 'ship_country', 'promotion_ids',\n",
              "       'B2B', 'fulfilled_by', 'Unnamed:_22'],\n",
              "      dtype='object')"
            ]
          },
          "metadata": {},
          "execution_count": 10
        }
      ]
    },
    {
      "cell_type": "code",
      "source": [
        "df.drop(\"Unnamed:_22\", axis=1,inplace=True)    # Undeterminable data"
      ],
      "metadata": {
        "id": "M9YxMD_4u-WE"
      },
      "execution_count": 11,
      "outputs": []
    },
    {
      "cell_type": "code",
      "source": [
        "df.head(2)"
      ],
      "metadata": {
        "colab": {
          "base_uri": "https://localhost:8080/",
          "height": 292
        },
        "id": "c6EQE7eytFNs",
        "outputId": "7ea76499-0bc6-446e-e1ef-d22f041c8454"
      },
      "execution_count": 12,
      "outputs": [
        {
          "output_type": "execute_result",
          "data": {
            "text/plain": [
              "   index             Order_ID      Date                        Status  \\\n",
              "0      0  405-8078784-5731545  04-30-22                     Cancelled   \n",
              "1      1  171-9198151-1101146  04-30-22  Shipped - Delivered to Buyer   \n",
              "\n",
              "  Fulfilment Sales_Channel_ ship_service_level    Style              SKU  \\\n",
              "0   Merchant      Amazon.in           Standard   SET389   SET389-KR-NP-S   \n",
              "1   Merchant      Amazon.in           Standard  JNE3781  JNE3781-KR-XXXL   \n",
              "\n",
              "  Category  ... Qty currency  Amount  ship_city   ship_state  \\\n",
              "0      Set  ...   0      INR  647.62     MUMBAI  MAHARASHTRA   \n",
              "1    kurta  ...   1      INR  406.00  BENGALURU    KARNATAKA   \n",
              "\n",
              "   ship_postal_code ship_country  \\\n",
              "0          400081.0           IN   \n",
              "1          560085.0           IN   \n",
              "\n",
              "                                       promotion_ids    B2B fulfilled_by  \n",
              "0                                                NaN  False    Easy Ship  \n",
              "1  Amazon PLCC Free-Financing Universal Merchant ...  False    Easy Ship  \n",
              "\n",
              "[2 rows x 23 columns]"
            ],
            "text/html": [
              "\n",
              "  <div id=\"df-b41111ba-6895-4805-b1ee-1891d1594916\">\n",
              "    <div class=\"colab-df-container\">\n",
              "      <div>\n",
              "<style scoped>\n",
              "    .dataframe tbody tr th:only-of-type {\n",
              "        vertical-align: middle;\n",
              "    }\n",
              "\n",
              "    .dataframe tbody tr th {\n",
              "        vertical-align: top;\n",
              "    }\n",
              "\n",
              "    .dataframe thead th {\n",
              "        text-align: right;\n",
              "    }\n",
              "</style>\n",
              "<table border=\"1\" class=\"dataframe\">\n",
              "  <thead>\n",
              "    <tr style=\"text-align: right;\">\n",
              "      <th></th>\n",
              "      <th>index</th>\n",
              "      <th>Order_ID</th>\n",
              "      <th>Date</th>\n",
              "      <th>Status</th>\n",
              "      <th>Fulfilment</th>\n",
              "      <th>Sales_Channel_</th>\n",
              "      <th>ship_service_level</th>\n",
              "      <th>Style</th>\n",
              "      <th>SKU</th>\n",
              "      <th>Category</th>\n",
              "      <th>...</th>\n",
              "      <th>Qty</th>\n",
              "      <th>currency</th>\n",
              "      <th>Amount</th>\n",
              "      <th>ship_city</th>\n",
              "      <th>ship_state</th>\n",
              "      <th>ship_postal_code</th>\n",
              "      <th>ship_country</th>\n",
              "      <th>promotion_ids</th>\n",
              "      <th>B2B</th>\n",
              "      <th>fulfilled_by</th>\n",
              "    </tr>\n",
              "  </thead>\n",
              "  <tbody>\n",
              "    <tr>\n",
              "      <th>0</th>\n",
              "      <td>0</td>\n",
              "      <td>405-8078784-5731545</td>\n",
              "      <td>04-30-22</td>\n",
              "      <td>Cancelled</td>\n",
              "      <td>Merchant</td>\n",
              "      <td>Amazon.in</td>\n",
              "      <td>Standard</td>\n",
              "      <td>SET389</td>\n",
              "      <td>SET389-KR-NP-S</td>\n",
              "      <td>Set</td>\n",
              "      <td>...</td>\n",
              "      <td>0</td>\n",
              "      <td>INR</td>\n",
              "      <td>647.62</td>\n",
              "      <td>MUMBAI</td>\n",
              "      <td>MAHARASHTRA</td>\n",
              "      <td>400081.0</td>\n",
              "      <td>IN</td>\n",
              "      <td>NaN</td>\n",
              "      <td>False</td>\n",
              "      <td>Easy Ship</td>\n",
              "    </tr>\n",
              "    <tr>\n",
              "      <th>1</th>\n",
              "      <td>1</td>\n",
              "      <td>171-9198151-1101146</td>\n",
              "      <td>04-30-22</td>\n",
              "      <td>Shipped - Delivered to Buyer</td>\n",
              "      <td>Merchant</td>\n",
              "      <td>Amazon.in</td>\n",
              "      <td>Standard</td>\n",
              "      <td>JNE3781</td>\n",
              "      <td>JNE3781-KR-XXXL</td>\n",
              "      <td>kurta</td>\n",
              "      <td>...</td>\n",
              "      <td>1</td>\n",
              "      <td>INR</td>\n",
              "      <td>406.00</td>\n",
              "      <td>BENGALURU</td>\n",
              "      <td>KARNATAKA</td>\n",
              "      <td>560085.0</td>\n",
              "      <td>IN</td>\n",
              "      <td>Amazon PLCC Free-Financing Universal Merchant ...</td>\n",
              "      <td>False</td>\n",
              "      <td>Easy Ship</td>\n",
              "    </tr>\n",
              "  </tbody>\n",
              "</table>\n",
              "<p>2 rows × 23 columns</p>\n",
              "</div>\n",
              "      <button class=\"colab-df-convert\" onclick=\"convertToInteractive('df-b41111ba-6895-4805-b1ee-1891d1594916')\"\n",
              "              title=\"Convert this dataframe to an interactive table.\"\n",
              "              style=\"display:none;\">\n",
              "        \n",
              "  <svg xmlns=\"http://www.w3.org/2000/svg\" height=\"24px\"viewBox=\"0 0 24 24\"\n",
              "       width=\"24px\">\n",
              "    <path d=\"M0 0h24v24H0V0z\" fill=\"none\"/>\n",
              "    <path d=\"M18.56 5.44l.94 2.06.94-2.06 2.06-.94-2.06-.94-.94-2.06-.94 2.06-2.06.94zm-11 1L8.5 8.5l.94-2.06 2.06-.94-2.06-.94L8.5 2.5l-.94 2.06-2.06.94zm10 10l.94 2.06.94-2.06 2.06-.94-2.06-.94-.94-2.06-.94 2.06-2.06.94z\"/><path d=\"M17.41 7.96l-1.37-1.37c-.4-.4-.92-.59-1.43-.59-.52 0-1.04.2-1.43.59L10.3 9.45l-7.72 7.72c-.78.78-.78 2.05 0 2.83L4 21.41c.39.39.9.59 1.41.59.51 0 1.02-.2 1.41-.59l7.78-7.78 2.81-2.81c.8-.78.8-2.07 0-2.86zM5.41 20L4 18.59l7.72-7.72 1.47 1.35L5.41 20z\"/>\n",
              "  </svg>\n",
              "      </button>\n",
              "      \n",
              "  <style>\n",
              "    .colab-df-container {\n",
              "      display:flex;\n",
              "      flex-wrap:wrap;\n",
              "      gap: 12px;\n",
              "    }\n",
              "\n",
              "    .colab-df-convert {\n",
              "      background-color: #E8F0FE;\n",
              "      border: none;\n",
              "      border-radius: 50%;\n",
              "      cursor: pointer;\n",
              "      display: none;\n",
              "      fill: #1967D2;\n",
              "      height: 32px;\n",
              "      padding: 0 0 0 0;\n",
              "      width: 32px;\n",
              "    }\n",
              "\n",
              "    .colab-df-convert:hover {\n",
              "      background-color: #E2EBFA;\n",
              "      box-shadow: 0px 1px 2px rgba(60, 64, 67, 0.3), 0px 1px 3px 1px rgba(60, 64, 67, 0.15);\n",
              "      fill: #174EA6;\n",
              "    }\n",
              "\n",
              "    [theme=dark] .colab-df-convert {\n",
              "      background-color: #3B4455;\n",
              "      fill: #D2E3FC;\n",
              "    }\n",
              "\n",
              "    [theme=dark] .colab-df-convert:hover {\n",
              "      background-color: #434B5C;\n",
              "      box-shadow: 0px 1px 3px 1px rgba(0, 0, 0, 0.15);\n",
              "      filter: drop-shadow(0px 1px 2px rgba(0, 0, 0, 0.3));\n",
              "      fill: #FFFFFF;\n",
              "    }\n",
              "  </style>\n",
              "\n",
              "      <script>\n",
              "        const buttonEl =\n",
              "          document.querySelector('#df-b41111ba-6895-4805-b1ee-1891d1594916 button.colab-df-convert');\n",
              "        buttonEl.style.display =\n",
              "          google.colab.kernel.accessAllowed ? 'block' : 'none';\n",
              "\n",
              "        async function convertToInteractive(key) {\n",
              "          const element = document.querySelector('#df-b41111ba-6895-4805-b1ee-1891d1594916');\n",
              "          const dataTable =\n",
              "            await google.colab.kernel.invokeFunction('convertToInteractive',\n",
              "                                                     [key], {});\n",
              "          if (!dataTable) return;\n",
              "\n",
              "          const docLinkHtml = 'Like what you see? Visit the ' +\n",
              "            '<a target=\"_blank\" href=https://colab.research.google.com/notebooks/data_table.ipynb>data table notebook</a>'\n",
              "            + ' to learn more about interactive tables.';\n",
              "          element.innerHTML = '';\n",
              "          dataTable['output_type'] = 'display_data';\n",
              "          await google.colab.output.renderOutput(dataTable, element);\n",
              "          const docLink = document.createElement('div');\n",
              "          docLink.innerHTML = docLinkHtml;\n",
              "          element.appendChild(docLink);\n",
              "        }\n",
              "      </script>\n",
              "    </div>\n",
              "  </div>\n",
              "  "
            ]
          },
          "metadata": {},
          "execution_count": 12
        }
      ]
    },
    {
      "cell_type": "code",
      "source": [
        "df.info()"
      ],
      "metadata": {
        "colab": {
          "base_uri": "https://localhost:8080/"
        },
        "id": "BxhRO1EPKXh4",
        "outputId": "e5fd88ed-f3e3-4513-c7fa-d33fa7e19ff7"
      },
      "execution_count": 13,
      "outputs": [
        {
          "output_type": "stream",
          "name": "stdout",
          "text": [
            "<class 'pandas.core.frame.DataFrame'>\n",
            "RangeIndex: 128975 entries, 0 to 128974\n",
            "Data columns (total 23 columns):\n",
            " #   Column              Non-Null Count   Dtype  \n",
            "---  ------              --------------   -----  \n",
            " 0   index               128975 non-null  int64  \n",
            " 1   Order_ID            128975 non-null  object \n",
            " 2   Date                128975 non-null  object \n",
            " 3   Status              128975 non-null  object \n",
            " 4   Fulfilment          128975 non-null  object \n",
            " 5   Sales_Channel_      128975 non-null  object \n",
            " 6   ship_service_level  128975 non-null  object \n",
            " 7   Style               128975 non-null  object \n",
            " 8   SKU                 128975 non-null  object \n",
            " 9   Category            128975 non-null  object \n",
            " 10  Size                128975 non-null  object \n",
            " 11  ASIN                128975 non-null  object \n",
            " 12  Courier_Status      122103 non-null  object \n",
            " 13  Qty                 128975 non-null  int64  \n",
            " 14  currency            121180 non-null  object \n",
            " 15  Amount              121180 non-null  float64\n",
            " 16  ship_city           128942 non-null  object \n",
            " 17  ship_state          128942 non-null  object \n",
            " 18  ship_postal_code    128942 non-null  float64\n",
            " 19  ship_country        128942 non-null  object \n",
            " 20  promotion_ids       79822 non-null   object \n",
            " 21  B2B                 128975 non-null  bool   \n",
            " 22  fulfilled_by        39277 non-null   object \n",
            "dtypes: bool(1), float64(2), int64(2), object(18)\n",
            "memory usage: 21.8+ MB\n"
          ]
        }
      ]
    },
    {
      "cell_type": "code",
      "source": [
        "df.isnull().sum()"
      ],
      "metadata": {
        "colab": {
          "base_uri": "https://localhost:8080/"
        },
        "id": "ZkD9BKXCwnM9",
        "outputId": "0411c59f-3959-4a78-e396-e17e32d583b8"
      },
      "execution_count": 14,
      "outputs": [
        {
          "output_type": "execute_result",
          "data": {
            "text/plain": [
              "index                     0\n",
              "Order_ID                  0\n",
              "Date                      0\n",
              "Status                    0\n",
              "Fulfilment                0\n",
              "Sales_Channel_            0\n",
              "ship_service_level        0\n",
              "Style                     0\n",
              "SKU                       0\n",
              "Category                  0\n",
              "Size                      0\n",
              "ASIN                      0\n",
              "Courier_Status         6872\n",
              "Qty                       0\n",
              "currency               7795\n",
              "Amount                 7795\n",
              "ship_city                33\n",
              "ship_state               33\n",
              "ship_postal_code         33\n",
              "ship_country             33\n",
              "promotion_ids         49153\n",
              "B2B                       0\n",
              "fulfilled_by          89698\n",
              "dtype: int64"
            ]
          },
          "metadata": {},
          "execution_count": 14
        }
      ]
    },
    {
      "cell_type": "code",
      "source": [
        "df.nunique().to_frame(name='Count of unique values')"
      ],
      "metadata": {
        "colab": {
          "base_uri": "https://localhost:8080/",
          "height": 770
        },
        "id": "rlxL9osuafvJ",
        "outputId": "db694f4c-79d8-47d1-d82e-eaf76c804b2d"
      },
      "execution_count": 15,
      "outputs": [
        {
          "output_type": "execute_result",
          "data": {
            "text/plain": [
              "                    Count of unique values\n",
              "index                               128975\n",
              "Order_ID                            120378\n",
              "Date                                    91\n",
              "Status                                  13\n",
              "Fulfilment                               2\n",
              "Sales_Channel_                           2\n",
              "ship_service_level                       2\n",
              "Style                                 1377\n",
              "SKU                                   7195\n",
              "Category                                 9\n",
              "Size                                    11\n",
              "ASIN                                  7190\n",
              "Courier_Status                           3\n",
              "Qty                                     10\n",
              "currency                                 1\n",
              "Amount                                1410\n",
              "ship_city                             8955\n",
              "ship_state                              69\n",
              "ship_postal_code                      9459\n",
              "ship_country                             1\n",
              "promotion_ids                         5787\n",
              "B2B                                      2\n",
              "fulfilled_by                             1"
            ],
            "text/html": [
              "\n",
              "  <div id=\"df-88c09858-3ea6-4077-a004-05322f321200\">\n",
              "    <div class=\"colab-df-container\">\n",
              "      <div>\n",
              "<style scoped>\n",
              "    .dataframe tbody tr th:only-of-type {\n",
              "        vertical-align: middle;\n",
              "    }\n",
              "\n",
              "    .dataframe tbody tr th {\n",
              "        vertical-align: top;\n",
              "    }\n",
              "\n",
              "    .dataframe thead th {\n",
              "        text-align: right;\n",
              "    }\n",
              "</style>\n",
              "<table border=\"1\" class=\"dataframe\">\n",
              "  <thead>\n",
              "    <tr style=\"text-align: right;\">\n",
              "      <th></th>\n",
              "      <th>Count of unique values</th>\n",
              "    </tr>\n",
              "  </thead>\n",
              "  <tbody>\n",
              "    <tr>\n",
              "      <th>index</th>\n",
              "      <td>128975</td>\n",
              "    </tr>\n",
              "    <tr>\n",
              "      <th>Order_ID</th>\n",
              "      <td>120378</td>\n",
              "    </tr>\n",
              "    <tr>\n",
              "      <th>Date</th>\n",
              "      <td>91</td>\n",
              "    </tr>\n",
              "    <tr>\n",
              "      <th>Status</th>\n",
              "      <td>13</td>\n",
              "    </tr>\n",
              "    <tr>\n",
              "      <th>Fulfilment</th>\n",
              "      <td>2</td>\n",
              "    </tr>\n",
              "    <tr>\n",
              "      <th>Sales_Channel_</th>\n",
              "      <td>2</td>\n",
              "    </tr>\n",
              "    <tr>\n",
              "      <th>ship_service_level</th>\n",
              "      <td>2</td>\n",
              "    </tr>\n",
              "    <tr>\n",
              "      <th>Style</th>\n",
              "      <td>1377</td>\n",
              "    </tr>\n",
              "    <tr>\n",
              "      <th>SKU</th>\n",
              "      <td>7195</td>\n",
              "    </tr>\n",
              "    <tr>\n",
              "      <th>Category</th>\n",
              "      <td>9</td>\n",
              "    </tr>\n",
              "    <tr>\n",
              "      <th>Size</th>\n",
              "      <td>11</td>\n",
              "    </tr>\n",
              "    <tr>\n",
              "      <th>ASIN</th>\n",
              "      <td>7190</td>\n",
              "    </tr>\n",
              "    <tr>\n",
              "      <th>Courier_Status</th>\n",
              "      <td>3</td>\n",
              "    </tr>\n",
              "    <tr>\n",
              "      <th>Qty</th>\n",
              "      <td>10</td>\n",
              "    </tr>\n",
              "    <tr>\n",
              "      <th>currency</th>\n",
              "      <td>1</td>\n",
              "    </tr>\n",
              "    <tr>\n",
              "      <th>Amount</th>\n",
              "      <td>1410</td>\n",
              "    </tr>\n",
              "    <tr>\n",
              "      <th>ship_city</th>\n",
              "      <td>8955</td>\n",
              "    </tr>\n",
              "    <tr>\n",
              "      <th>ship_state</th>\n",
              "      <td>69</td>\n",
              "    </tr>\n",
              "    <tr>\n",
              "      <th>ship_postal_code</th>\n",
              "      <td>9459</td>\n",
              "    </tr>\n",
              "    <tr>\n",
              "      <th>ship_country</th>\n",
              "      <td>1</td>\n",
              "    </tr>\n",
              "    <tr>\n",
              "      <th>promotion_ids</th>\n",
              "      <td>5787</td>\n",
              "    </tr>\n",
              "    <tr>\n",
              "      <th>B2B</th>\n",
              "      <td>2</td>\n",
              "    </tr>\n",
              "    <tr>\n",
              "      <th>fulfilled_by</th>\n",
              "      <td>1</td>\n",
              "    </tr>\n",
              "  </tbody>\n",
              "</table>\n",
              "</div>\n",
              "      <button class=\"colab-df-convert\" onclick=\"convertToInteractive('df-88c09858-3ea6-4077-a004-05322f321200')\"\n",
              "              title=\"Convert this dataframe to an interactive table.\"\n",
              "              style=\"display:none;\">\n",
              "        \n",
              "  <svg xmlns=\"http://www.w3.org/2000/svg\" height=\"24px\"viewBox=\"0 0 24 24\"\n",
              "       width=\"24px\">\n",
              "    <path d=\"M0 0h24v24H0V0z\" fill=\"none\"/>\n",
              "    <path d=\"M18.56 5.44l.94 2.06.94-2.06 2.06-.94-2.06-.94-.94-2.06-.94 2.06-2.06.94zm-11 1L8.5 8.5l.94-2.06 2.06-.94-2.06-.94L8.5 2.5l-.94 2.06-2.06.94zm10 10l.94 2.06.94-2.06 2.06-.94-2.06-.94-.94-2.06-.94 2.06-2.06.94z\"/><path d=\"M17.41 7.96l-1.37-1.37c-.4-.4-.92-.59-1.43-.59-.52 0-1.04.2-1.43.59L10.3 9.45l-7.72 7.72c-.78.78-.78 2.05 0 2.83L4 21.41c.39.39.9.59 1.41.59.51 0 1.02-.2 1.41-.59l7.78-7.78 2.81-2.81c.8-.78.8-2.07 0-2.86zM5.41 20L4 18.59l7.72-7.72 1.47 1.35L5.41 20z\"/>\n",
              "  </svg>\n",
              "      </button>\n",
              "      \n",
              "  <style>\n",
              "    .colab-df-container {\n",
              "      display:flex;\n",
              "      flex-wrap:wrap;\n",
              "      gap: 12px;\n",
              "    }\n",
              "\n",
              "    .colab-df-convert {\n",
              "      background-color: #E8F0FE;\n",
              "      border: none;\n",
              "      border-radius: 50%;\n",
              "      cursor: pointer;\n",
              "      display: none;\n",
              "      fill: #1967D2;\n",
              "      height: 32px;\n",
              "      padding: 0 0 0 0;\n",
              "      width: 32px;\n",
              "    }\n",
              "\n",
              "    .colab-df-convert:hover {\n",
              "      background-color: #E2EBFA;\n",
              "      box-shadow: 0px 1px 2px rgba(60, 64, 67, 0.3), 0px 1px 3px 1px rgba(60, 64, 67, 0.15);\n",
              "      fill: #174EA6;\n",
              "    }\n",
              "\n",
              "    [theme=dark] .colab-df-convert {\n",
              "      background-color: #3B4455;\n",
              "      fill: #D2E3FC;\n",
              "    }\n",
              "\n",
              "    [theme=dark] .colab-df-convert:hover {\n",
              "      background-color: #434B5C;\n",
              "      box-shadow: 0px 1px 3px 1px rgba(0, 0, 0, 0.15);\n",
              "      filter: drop-shadow(0px 1px 2px rgba(0, 0, 0, 0.3));\n",
              "      fill: #FFFFFF;\n",
              "    }\n",
              "  </style>\n",
              "\n",
              "      <script>\n",
              "        const buttonEl =\n",
              "          document.querySelector('#df-88c09858-3ea6-4077-a004-05322f321200 button.colab-df-convert');\n",
              "        buttonEl.style.display =\n",
              "          google.colab.kernel.accessAllowed ? 'block' : 'none';\n",
              "\n",
              "        async function convertToInteractive(key) {\n",
              "          const element = document.querySelector('#df-88c09858-3ea6-4077-a004-05322f321200');\n",
              "          const dataTable =\n",
              "            await google.colab.kernel.invokeFunction('convertToInteractive',\n",
              "                                                     [key], {});\n",
              "          if (!dataTable) return;\n",
              "\n",
              "          const docLinkHtml = 'Like what you see? Visit the ' +\n",
              "            '<a target=\"_blank\" href=https://colab.research.google.com/notebooks/data_table.ipynb>data table notebook</a>'\n",
              "            + ' to learn more about interactive tables.';\n",
              "          element.innerHTML = '';\n",
              "          dataTable['output_type'] = 'display_data';\n",
              "          await google.colab.output.renderOutput(dataTable, element);\n",
              "          const docLink = document.createElement('div');\n",
              "          docLink.innerHTML = docLinkHtml;\n",
              "          element.appendChild(docLink);\n",
              "        }\n",
              "      </script>\n",
              "    </div>\n",
              "  </div>\n",
              "  "
            ]
          },
          "metadata": {},
          "execution_count": 15
        }
      ]
    },
    {
      "cell_type": "code",
      "source": [
        "df.apply(pd.unique).to_frame(name='Unique Values')"
      ],
      "metadata": {
        "colab": {
          "base_uri": "https://localhost:8080/",
          "height": 770
        },
        "id": "VAj4U6TSa20D",
        "outputId": "ff1a7765-4bc0-433f-91e1-09aa0751d0a5"
      },
      "execution_count": 16,
      "outputs": [
        {
          "output_type": "execute_result",
          "data": {
            "text/plain": [
              "                                                        Unique Values\n",
              "index               [0, 1, 2, 3, 4, 5, 6, 7, 8, 9, 10, 11, 12, 13,...\n",
              "Order_ID            [405-8078784-5731545, 171-9198151-1101146, 404...\n",
              "Date                [04-30-22, 04-29-22, 04-28-22, 04-27-22, 04-26...\n",
              "Status              [Cancelled, Shipped - Delivered to Buyer, Ship...\n",
              "Fulfilment                                         [Merchant, Amazon]\n",
              "Sales_Channel_                                [Amazon.in, Non-Amazon]\n",
              "ship_service_level                              [Standard, Expedited]\n",
              "Style               [SET389, JNE3781, JNE3371, J0341, JNE3671, SET...\n",
              "SKU                 [SET389-KR-NP-S, JNE3781-KR-XXXL, JNE3371-KR-X...\n",
              "Category            [Set, kurta, Western Dress, Top, Ethnic Dress,...\n",
              "Size                 [S, 3XL, XL, L, XXL, XS, 6XL, M, 4XL, 5XL, Free]\n",
              "ASIN                [B09KXVBD7Z, B09K3WFS32, B07WV4JV4D, B099NRCT7...\n",
              "Courier_Status                   [nan, Shipped, Cancelled, Unshipped]\n",
              "Qty                                  [0, 1, 2, 15, 3, 9, 13, 5, 4, 8]\n",
              "currency                                                   [INR, nan]\n",
              "Amount              [647.62, 406.0, 329.0, 753.33, 574.0, 824.0, 6...\n",
              "ship_city           [MUMBAI, BENGALURU, NAVI MUMBAI, PUDUCHERRY, C...\n",
              "ship_state          [MAHARASHTRA, KARNATAKA, PUDUCHERRY, TAMIL NAD...\n",
              "ship_postal_code    [400081.0, 560085.0, 410210.0, 605008.0, 60007...\n",
              "ship_country                                                [IN, nan]\n",
              "promotion_ids       [nan, Amazon PLCC Free-Financing Universal Mer...\n",
              "B2B                                                     [False, True]\n",
              "fulfilled_by                                         [Easy Ship, nan]"
            ],
            "text/html": [
              "\n",
              "  <div id=\"df-26e60231-b414-40a2-ae24-36e1ff5c6780\">\n",
              "    <div class=\"colab-df-container\">\n",
              "      <div>\n",
              "<style scoped>\n",
              "    .dataframe tbody tr th:only-of-type {\n",
              "        vertical-align: middle;\n",
              "    }\n",
              "\n",
              "    .dataframe tbody tr th {\n",
              "        vertical-align: top;\n",
              "    }\n",
              "\n",
              "    .dataframe thead th {\n",
              "        text-align: right;\n",
              "    }\n",
              "</style>\n",
              "<table border=\"1\" class=\"dataframe\">\n",
              "  <thead>\n",
              "    <tr style=\"text-align: right;\">\n",
              "      <th></th>\n",
              "      <th>Unique Values</th>\n",
              "    </tr>\n",
              "  </thead>\n",
              "  <tbody>\n",
              "    <tr>\n",
              "      <th>index</th>\n",
              "      <td>[0, 1, 2, 3, 4, 5, 6, 7, 8, 9, 10, 11, 12, 13,...</td>\n",
              "    </tr>\n",
              "    <tr>\n",
              "      <th>Order_ID</th>\n",
              "      <td>[405-8078784-5731545, 171-9198151-1101146, 404...</td>\n",
              "    </tr>\n",
              "    <tr>\n",
              "      <th>Date</th>\n",
              "      <td>[04-30-22, 04-29-22, 04-28-22, 04-27-22, 04-26...</td>\n",
              "    </tr>\n",
              "    <tr>\n",
              "      <th>Status</th>\n",
              "      <td>[Cancelled, Shipped - Delivered to Buyer, Ship...</td>\n",
              "    </tr>\n",
              "    <tr>\n",
              "      <th>Fulfilment</th>\n",
              "      <td>[Merchant, Amazon]</td>\n",
              "    </tr>\n",
              "    <tr>\n",
              "      <th>Sales_Channel_</th>\n",
              "      <td>[Amazon.in, Non-Amazon]</td>\n",
              "    </tr>\n",
              "    <tr>\n",
              "      <th>ship_service_level</th>\n",
              "      <td>[Standard, Expedited]</td>\n",
              "    </tr>\n",
              "    <tr>\n",
              "      <th>Style</th>\n",
              "      <td>[SET389, JNE3781, JNE3371, J0341, JNE3671, SET...</td>\n",
              "    </tr>\n",
              "    <tr>\n",
              "      <th>SKU</th>\n",
              "      <td>[SET389-KR-NP-S, JNE3781-KR-XXXL, JNE3371-KR-X...</td>\n",
              "    </tr>\n",
              "    <tr>\n",
              "      <th>Category</th>\n",
              "      <td>[Set, kurta, Western Dress, Top, Ethnic Dress,...</td>\n",
              "    </tr>\n",
              "    <tr>\n",
              "      <th>Size</th>\n",
              "      <td>[S, 3XL, XL, L, XXL, XS, 6XL, M, 4XL, 5XL, Free]</td>\n",
              "    </tr>\n",
              "    <tr>\n",
              "      <th>ASIN</th>\n",
              "      <td>[B09KXVBD7Z, B09K3WFS32, B07WV4JV4D, B099NRCT7...</td>\n",
              "    </tr>\n",
              "    <tr>\n",
              "      <th>Courier_Status</th>\n",
              "      <td>[nan, Shipped, Cancelled, Unshipped]</td>\n",
              "    </tr>\n",
              "    <tr>\n",
              "      <th>Qty</th>\n",
              "      <td>[0, 1, 2, 15, 3, 9, 13, 5, 4, 8]</td>\n",
              "    </tr>\n",
              "    <tr>\n",
              "      <th>currency</th>\n",
              "      <td>[INR, nan]</td>\n",
              "    </tr>\n",
              "    <tr>\n",
              "      <th>Amount</th>\n",
              "      <td>[647.62, 406.0, 329.0, 753.33, 574.0, 824.0, 6...</td>\n",
              "    </tr>\n",
              "    <tr>\n",
              "      <th>ship_city</th>\n",
              "      <td>[MUMBAI, BENGALURU, NAVI MUMBAI, PUDUCHERRY, C...</td>\n",
              "    </tr>\n",
              "    <tr>\n",
              "      <th>ship_state</th>\n",
              "      <td>[MAHARASHTRA, KARNATAKA, PUDUCHERRY, TAMIL NAD...</td>\n",
              "    </tr>\n",
              "    <tr>\n",
              "      <th>ship_postal_code</th>\n",
              "      <td>[400081.0, 560085.0, 410210.0, 605008.0, 60007...</td>\n",
              "    </tr>\n",
              "    <tr>\n",
              "      <th>ship_country</th>\n",
              "      <td>[IN, nan]</td>\n",
              "    </tr>\n",
              "    <tr>\n",
              "      <th>promotion_ids</th>\n",
              "      <td>[nan, Amazon PLCC Free-Financing Universal Mer...</td>\n",
              "    </tr>\n",
              "    <tr>\n",
              "      <th>B2B</th>\n",
              "      <td>[False, True]</td>\n",
              "    </tr>\n",
              "    <tr>\n",
              "      <th>fulfilled_by</th>\n",
              "      <td>[Easy Ship, nan]</td>\n",
              "    </tr>\n",
              "  </tbody>\n",
              "</table>\n",
              "</div>\n",
              "      <button class=\"colab-df-convert\" onclick=\"convertToInteractive('df-26e60231-b414-40a2-ae24-36e1ff5c6780')\"\n",
              "              title=\"Convert this dataframe to an interactive table.\"\n",
              "              style=\"display:none;\">\n",
              "        \n",
              "  <svg xmlns=\"http://www.w3.org/2000/svg\" height=\"24px\"viewBox=\"0 0 24 24\"\n",
              "       width=\"24px\">\n",
              "    <path d=\"M0 0h24v24H0V0z\" fill=\"none\"/>\n",
              "    <path d=\"M18.56 5.44l.94 2.06.94-2.06 2.06-.94-2.06-.94-.94-2.06-.94 2.06-2.06.94zm-11 1L8.5 8.5l.94-2.06 2.06-.94-2.06-.94L8.5 2.5l-.94 2.06-2.06.94zm10 10l.94 2.06.94-2.06 2.06-.94-2.06-.94-.94-2.06-.94 2.06-2.06.94z\"/><path d=\"M17.41 7.96l-1.37-1.37c-.4-.4-.92-.59-1.43-.59-.52 0-1.04.2-1.43.59L10.3 9.45l-7.72 7.72c-.78.78-.78 2.05 0 2.83L4 21.41c.39.39.9.59 1.41.59.51 0 1.02-.2 1.41-.59l7.78-7.78 2.81-2.81c.8-.78.8-2.07 0-2.86zM5.41 20L4 18.59l7.72-7.72 1.47 1.35L5.41 20z\"/>\n",
              "  </svg>\n",
              "      </button>\n",
              "      \n",
              "  <style>\n",
              "    .colab-df-container {\n",
              "      display:flex;\n",
              "      flex-wrap:wrap;\n",
              "      gap: 12px;\n",
              "    }\n",
              "\n",
              "    .colab-df-convert {\n",
              "      background-color: #E8F0FE;\n",
              "      border: none;\n",
              "      border-radius: 50%;\n",
              "      cursor: pointer;\n",
              "      display: none;\n",
              "      fill: #1967D2;\n",
              "      height: 32px;\n",
              "      padding: 0 0 0 0;\n",
              "      width: 32px;\n",
              "    }\n",
              "\n",
              "    .colab-df-convert:hover {\n",
              "      background-color: #E2EBFA;\n",
              "      box-shadow: 0px 1px 2px rgba(60, 64, 67, 0.3), 0px 1px 3px 1px rgba(60, 64, 67, 0.15);\n",
              "      fill: #174EA6;\n",
              "    }\n",
              "\n",
              "    [theme=dark] .colab-df-convert {\n",
              "      background-color: #3B4455;\n",
              "      fill: #D2E3FC;\n",
              "    }\n",
              "\n",
              "    [theme=dark] .colab-df-convert:hover {\n",
              "      background-color: #434B5C;\n",
              "      box-shadow: 0px 1px 3px 1px rgba(0, 0, 0, 0.15);\n",
              "      filter: drop-shadow(0px 1px 2px rgba(0, 0, 0, 0.3));\n",
              "      fill: #FFFFFF;\n",
              "    }\n",
              "  </style>\n",
              "\n",
              "      <script>\n",
              "        const buttonEl =\n",
              "          document.querySelector('#df-26e60231-b414-40a2-ae24-36e1ff5c6780 button.colab-df-convert');\n",
              "        buttonEl.style.display =\n",
              "          google.colab.kernel.accessAllowed ? 'block' : 'none';\n",
              "\n",
              "        async function convertToInteractive(key) {\n",
              "          const element = document.querySelector('#df-26e60231-b414-40a2-ae24-36e1ff5c6780');\n",
              "          const dataTable =\n",
              "            await google.colab.kernel.invokeFunction('convertToInteractive',\n",
              "                                                     [key], {});\n",
              "          if (!dataTable) return;\n",
              "\n",
              "          const docLinkHtml = 'Like what you see? Visit the ' +\n",
              "            '<a target=\"_blank\" href=https://colab.research.google.com/notebooks/data_table.ipynb>data table notebook</a>'\n",
              "            + ' to learn more about interactive tables.';\n",
              "          element.innerHTML = '';\n",
              "          dataTable['output_type'] = 'display_data';\n",
              "          await google.colab.output.renderOutput(dataTable, element);\n",
              "          const docLink = document.createElement('div');\n",
              "          docLink.innerHTML = docLinkHtml;\n",
              "          element.appendChild(docLink);\n",
              "        }\n",
              "      </script>\n",
              "    </div>\n",
              "  </div>\n",
              "  "
            ]
          },
          "metadata": {},
          "execution_count": 16
        }
      ]
    },
    {
      "cell_type": "code",
      "source": [
        "df.Status.unique()"
      ],
      "metadata": {
        "colab": {
          "base_uri": "https://localhost:8080/"
        },
        "id": "tJ3hEdCJaCVE",
        "outputId": "b42194ff-66d9-41db-df9a-36ebfc7d078a"
      },
      "execution_count": 17,
      "outputs": [
        {
          "output_type": "execute_result",
          "data": {
            "text/plain": [
              "array(['Cancelled', 'Shipped - Delivered to Buyer', 'Shipped',\n",
              "       'Shipped - Returned to Seller', 'Shipped - Rejected by Buyer',\n",
              "       'Shipped - Lost in Transit', 'Shipped - Out for Delivery',\n",
              "       'Shipped - Returning to Seller', 'Shipped - Picked Up', 'Pending',\n",
              "       'Pending - Waiting for Pick Up', 'Shipped - Damaged', 'Shipping'],\n",
              "      dtype=object)"
            ]
          },
          "metadata": {},
          "execution_count": 17
        }
      ]
    },
    {
      "cell_type": "code",
      "source": [
        "df['currency'].unique()"
      ],
      "metadata": {
        "colab": {
          "base_uri": "https://localhost:8080/"
        },
        "id": "0Rfn93ovrmB0",
        "outputId": "2e5e9bb8-387b-4bfb-b518-b2f00d071617"
      },
      "execution_count": 18,
      "outputs": [
        {
          "output_type": "execute_result",
          "data": {
            "text/plain": [
              "array(['INR', nan], dtype=object)"
            ]
          },
          "metadata": {},
          "execution_count": 18
        }
      ]
    },
    {
      "cell_type": "code",
      "source": [
        "df['currency'].fillna(method='ffill',inplace=True)\n",
        "df['currency'].unique()"
      ],
      "metadata": {
        "colab": {
          "base_uri": "https://localhost:8080/"
        },
        "id": "lWU9yKtYtFKO",
        "outputId": "cb2ce20a-5779-4d70-c166-eed8dd5b04f5"
      },
      "execution_count": 19,
      "outputs": [
        {
          "output_type": "execute_result",
          "data": {
            "text/plain": [
              "array(['INR'], dtype=object)"
            ]
          },
          "metadata": {},
          "execution_count": 19
        }
      ]
    },
    {
      "cell_type": "code",
      "source": [
        "print(df['ship_country'].unique())\n",
        "df['ship_country'].isnull().sum()"
      ],
      "metadata": {
        "colab": {
          "base_uri": "https://localhost:8080/"
        },
        "id": "5VZxZJtMVdUv",
        "outputId": "c9199624-e97a-47d4-b055-54f4c96dce0b"
      },
      "execution_count": 20,
      "outputs": [
        {
          "output_type": "stream",
          "name": "stdout",
          "text": [
            "['IN' nan]\n"
          ]
        },
        {
          "output_type": "execute_result",
          "data": {
            "text/plain": [
              "33"
            ]
          },
          "metadata": {},
          "execution_count": 20
        }
      ]
    },
    {
      "cell_type": "code",
      "source": [
        "df['Size'].unique()"
      ],
      "metadata": {
        "colab": {
          "base_uri": "https://localhost:8080/"
        },
        "id": "kSSMuiOqtFIE",
        "outputId": "5a9c782e-1795-4ccd-ece0-60b5b03f76c4"
      },
      "execution_count": 21,
      "outputs": [
        {
          "output_type": "execute_result",
          "data": {
            "text/plain": [
              "array(['S', '3XL', 'XL', 'L', 'XXL', 'XS', '6XL', 'M', '4XL', '5XL',\n",
              "       'Free'], dtype=object)"
            ]
          },
          "metadata": {},
          "execution_count": 21
        }
      ]
    },
    {
      "cell_type": "code",
      "source": [
        "df['Category'].unique()"
      ],
      "metadata": {
        "colab": {
          "base_uri": "https://localhost:8080/"
        },
        "id": "ASZNO28VtFFf",
        "outputId": "51eac80e-06d3-40b6-e139-92a7f1abe51b"
      },
      "execution_count": 22,
      "outputs": [
        {
          "output_type": "execute_result",
          "data": {
            "text/plain": [
              "array(['Set', 'kurta', 'Western Dress', 'Top', 'Ethnic Dress', 'Bottom',\n",
              "       'Saree', 'Blouse', 'Dupatta'], dtype=object)"
            ]
          },
          "metadata": {},
          "execution_count": 22
        }
      ]
    },
    {
      "cell_type": "code",
      "source": [
        "df['Date'].max()"
      ],
      "metadata": {
        "colab": {
          "base_uri": "https://localhost:8080/",
          "height": 36
        },
        "id": "WANgb6uSx0YU",
        "outputId": "f3af4ca7-3a16-4b9d-9503-746927450096"
      },
      "execution_count": 23,
      "outputs": [
        {
          "output_type": "execute_result",
          "data": {
            "text/plain": [
              "'06-29-22'"
            ],
            "application/vnd.google.colaboratory.intrinsic+json": {
              "type": "string"
            }
          },
          "metadata": {},
          "execution_count": 23
        }
      ]
    },
    {
      "cell_type": "code",
      "source": [
        "df['Date']"
      ],
      "metadata": {
        "colab": {
          "base_uri": "https://localhost:8080/"
        },
        "id": "p8IRRQ7mA05x",
        "outputId": "e036df9a-7611-4fc6-cc27-518c4f4c0e4e"
      },
      "execution_count": 24,
      "outputs": [
        {
          "output_type": "execute_result",
          "data": {
            "text/plain": [
              "0         04-30-22\n",
              "1         04-30-22\n",
              "2         04-30-22\n",
              "3         04-30-22\n",
              "4         04-30-22\n",
              "            ...   \n",
              "128970    05-31-22\n",
              "128971    05-31-22\n",
              "128972    05-31-22\n",
              "128973    05-31-22\n",
              "128974    05-31-22\n",
              "Name: Date, Length: 128975, dtype: object"
            ]
          },
          "metadata": {},
          "execution_count": 24
        }
      ]
    },
    {
      "cell_type": "code",
      "source": [
        "df['Date'].min()"
      ],
      "metadata": {
        "colab": {
          "base_uri": "https://localhost:8080/",
          "height": 36
        },
        "id": "rE6cFjO5AruS",
        "outputId": "9b4ea5c1-d036-4bbc-c878-1f11bfbb043a"
      },
      "execution_count": 25,
      "outputs": [
        {
          "output_type": "execute_result",
          "data": {
            "text/plain": [
              "'03-31-22'"
            ],
            "application/vnd.google.colaboratory.intrinsic+json": {
              "type": "string"
            }
          },
          "metadata": {},
          "execution_count": 25
        }
      ]
    },
    {
      "cell_type": "code",
      "source": [
        "print(df['Sales_Channel_'].unique())\n",
        "df[df['Sales_Channel_']=='Non-Amazon'].count()"
      ],
      "metadata": {
        "colab": {
          "base_uri": "https://localhost:8080/"
        },
        "id": "FoU1mYI-Wc20",
        "outputId": "b31d59de-260b-4e03-d094-6b533b3c992c"
      },
      "execution_count": 26,
      "outputs": [
        {
          "output_type": "stream",
          "name": "stdout",
          "text": [
            "['Amazon.in' 'Non-Amazon']\n"
          ]
        },
        {
          "output_type": "execute_result",
          "data": {
            "text/plain": [
              "index                 124\n",
              "Order_ID              124\n",
              "Date                  124\n",
              "Status                124\n",
              "Fulfilment            124\n",
              "Sales_Channel_        124\n",
              "ship_service_level    124\n",
              "Style                 124\n",
              "SKU                   124\n",
              "Category              124\n",
              "Size                  124\n",
              "ASIN                  124\n",
              "Courier_Status        124\n",
              "Qty                   124\n",
              "currency              124\n",
              "Amount                  0\n",
              "ship_city             124\n",
              "ship_state            124\n",
              "ship_postal_code      124\n",
              "ship_country          124\n",
              "promotion_ids           0\n",
              "B2B                   124\n",
              "fulfilled_by            0\n",
              "dtype: int64"
            ]
          },
          "metadata": {},
          "execution_count": 26
        }
      ]
    },
    {
      "cell_type": "markdown",
      "source": [
        "### Some observations by looking at the dataset: 👀\n",
        "The dataset consists of 128974 entries and 23 columns\n",
        "\n",
        "1.   **Size**: the sizes vary from XS to 5XL and freesize\n",
        "2.   **Category** : Many categories of products are present in this dataset, namely Set, kurta, Western Dress, Top, Ethnic Dress, Bottom,Saree, Blouse, Dupatta\n",
        "3.   **Dates** can be used for analysing the time period and sales, dates in the dataset **vary from 03-31-22 to 06-29-22**\n",
        "4.   Status : contains 13 unique values\n",
        "5.   Fulfillment\n",
        "6.   Quantity\n",
        "7.  **Amount**: contains some null values that need to be taken care of\n",
        "8.   ship city and state\n",
        "9.   B2B  Business or individual customer\n",
        "\n",
        "dropping\n",
        "10.  Country: the currency is only either INR or nan, so the country is India column can be dropped\n",
        "11.  Currency column can be dropped\n",
        "12.  Unnamed 22 dropped\n",
        "13.  fulfilled by col can be dropped only contains easy ship or nan\n",
        "\n"
      ],
      "metadata": {
        "id": "gcqHGKZDqmKU"
      }
    },
    {
      "cell_type": "markdown",
      "source": [
        "### Cleaning 🧹"
      ],
      "metadata": {
        "id": "bRSWw-tV5Ty5"
      }
    },
    {
      "cell_type": "markdown",
      "source": [
        "\n",
        "1.    Columns to be dropped\n",
        "\n",
        "       *  Country\n",
        "       *  Currency\n",
        "       *  fulfilled by\n",
        "       *  Unnamed: 22\n",
        "---\n",
        "2.   Column Creation\n",
        "\n",
        "      *   month - to use in analysis and groupbys\n",
        "\n",
        "\n",
        "---\n",
        "3.   Column Value Ordering\n",
        "      *   size - created an ordered category of based on product sizes  \n",
        "\n",
        "---\n",
        "4.   Columns fillna()   \n",
        "\n",
        "      *   promotion-ids - will fill missing with 'No Promotion'\n",
        "      *   Courier Status - will fill missing with 'Unknown'\n",
        "      *   Amount - will fill missing with 0, since 97% of all Orders with missing Amount are cancelled\n",
        "      *   ship-city - Unknown where null\n",
        "      *   ship-state- unknown where null\n",
        "      *   ship-postal-code - unknown where null\n",
        "\n",
        "---\n",
        "\n",
        "\n",
        "\n",
        "\n",
        "\n",
        "\n",
        "\n",
        "\n",
        "\n",
        "\n",
        "\n"
      ],
      "metadata": {
        "id": "_IgdcmH2rKxd"
      }
    },
    {
      "cell_type": "markdown",
      "source": [
        "Dropping Columns"
      ],
      "metadata": {
        "id": "hM3-2JBOySs8"
      }
    },
    {
      "cell_type": "code",
      "source": [
        "df.drop(columns=['ship_country','currency','fulfilled_by'],inplace=True,axis=1)"
      ],
      "metadata": {
        "id": "UTy-UXk0yRqV"
      },
      "execution_count": 27,
      "outputs": []
    },
    {
      "cell_type": "code",
      "source": [
        "df.head(1)\n",
        "df.shape"
      ],
      "metadata": {
        "colab": {
          "base_uri": "https://localhost:8080/"
        },
        "id": "vEtkxXkqza7y",
        "outputId": "4cb423bd-430b-4d33-806f-169fc91c3d15"
      },
      "execution_count": 28,
      "outputs": [
        {
          "output_type": "execute_result",
          "data": {
            "text/plain": [
              "(128975, 20)"
            ]
          },
          "metadata": {},
          "execution_count": 28
        }
      ]
    },
    {
      "cell_type": "markdown",
      "source": [
        "Column creation"
      ],
      "metadata": {
        "id": "M34m9hK35G0i"
      }
    },
    {
      "cell_type": "code",
      "source": [
        "df['Date']=pd.to_datetime(df['Date'])\n",
        "df['month']=df['Date'].dt.month_name()\n",
        "print('march entries: ',len(df.where(df['month']=='March').dropna()))    ## number of entries of march\n",
        "print('percentage of March entries: ',round(len(df.where(df['month']=='March').dropna())/df.shape[0]*100,3))\n",
        "df['month']"
      ],
      "metadata": {
        "colab": {
          "base_uri": "https://localhost:8080/"
        },
        "id": "_9mdPiJh5Ka0",
        "outputId": "3a0fa173-d6f1-4cf8-a227-8dd6d9928090"
      },
      "execution_count": 29,
      "outputs": [
        {
          "output_type": "stream",
          "name": "stdout",
          "text": [
            "march entries:  108\n",
            "percentage of March entries:  0.084\n"
          ]
        },
        {
          "output_type": "execute_result",
          "data": {
            "text/plain": [
              "0         April\n",
              "1         April\n",
              "2         April\n",
              "3         April\n",
              "4         April\n",
              "          ...  \n",
              "128970      May\n",
              "128971      May\n",
              "128972      May\n",
              "128973      May\n",
              "128974      May\n",
              "Name: month, Length: 128975, dtype: object"
            ]
          },
          "metadata": {},
          "execution_count": 29
        }
      ]
    },
    {
      "cell_type": "markdown",
      "source": [
        "Column ordering"
      ],
      "metadata": {
        "id": "-ZsW3CVr3STM"
      }
    },
    {
      "cell_type": "code",
      "source": [
        "# Define the desired order for the 'size' column\n",
        "size_order = ['Free','XS', 'S', 'M', 'L', 'XL', 'XXL', '3XL', '4XL', '5XL', '6XL']\n",
        "\n",
        "# Create an ordered categorical variable for the 'size' column\n",
        "df['Size'] = pd.Categorical(df['Size'], categories=size_order, ordered=True)"
      ],
      "metadata": {
        "id": "PZd5CIHS3WKR"
      },
      "execution_count": 30,
      "outputs": []
    },
    {
      "cell_type": "markdown",
      "source": [
        "Columns fillna()"
      ],
      "metadata": {
        "id": "1ZNgfCVE7LA5"
      }
    },
    {
      "cell_type": "code",
      "source": [
        "df.loc[df[\"promotion_ids\"].isnull(), \"promotion_ids\"] = \"No promotion\"\n",
        "df.promotion_ids"
      ],
      "metadata": {
        "colab": {
          "base_uri": "https://localhost:8080/"
        },
        "id": "WS5PBxpp7Ix-",
        "outputId": "09eda729-f9db-4d17-8583-abddfe7d0192"
      },
      "execution_count": 31,
      "outputs": [
        {
          "output_type": "execute_result",
          "data": {
            "text/plain": [
              "0                                              No promotion\n",
              "1         Amazon PLCC Free-Financing Universal Merchant ...\n",
              "2              IN Core Free Shipping 2015/04/08 23-48-5-108\n",
              "3                                              No promotion\n",
              "4                                              No promotion\n",
              "                                ...                        \n",
              "128970                                         No promotion\n",
              "128971         IN Core Free Shipping 2015/04/08 23-48-5-108\n",
              "128972                                         No promotion\n",
              "128973         IN Core Free Shipping 2015/04/08 23-48-5-108\n",
              "128974         IN Core Free Shipping 2015/04/08 23-48-5-108\n",
              "Name: promotion_ids, Length: 128975, dtype: object"
            ]
          },
          "metadata": {},
          "execution_count": 31
        }
      ]
    },
    {
      "cell_type": "code",
      "source": [
        "df.loc[df[\"Courier_Status\"].isnull(), \"Courier_Status\"] = \"Unknown\"\n",
        "df.Courier_Status"
      ],
      "metadata": {
        "colab": {
          "base_uri": "https://localhost:8080/"
        },
        "id": "HHDEAJK17OVI",
        "outputId": "3ee7d880-3dcb-4dc4-f5e9-b4c22f5aedf6"
      },
      "execution_count": 32,
      "outputs": [
        {
          "output_type": "execute_result",
          "data": {
            "text/plain": [
              "0         Unknown\n",
              "1         Shipped\n",
              "2         Shipped\n",
              "3         Unknown\n",
              "4         Shipped\n",
              "           ...   \n",
              "128970    Shipped\n",
              "128971    Shipped\n",
              "128972    Shipped\n",
              "128973    Shipped\n",
              "128974    Shipped\n",
              "Name: Courier_Status, Length: 128975, dtype: object"
            ]
          },
          "metadata": {},
          "execution_count": 32
        }
      ]
    },
    {
      "cell_type": "code",
      "source": [
        "print('Number of rows where amount is null: ', len(df[df['Amount'].isnull()]))\n",
        "print('Number of rows where amount is null and order is cancelled: ',len(df[(df['Amount'].isnull()) & (df['Status']=='Cancelled')]))\n",
        "print(round(len(df[(df['Amount'].isnull()) & (df['Status']=='Cancelled')])/len(df[df['Amount'].isnull()])*100,2), '% -> amount null due to orders cancelled')"
      ],
      "metadata": {
        "colab": {
          "base_uri": "https://localhost:8080/"
        },
        "id": "ifWgfLDz7O0l",
        "outputId": "43924435-7ab0-4a62-d365-36058747d6cf"
      },
      "execution_count": 33,
      "outputs": [
        {
          "output_type": "stream",
          "name": "stdout",
          "text": [
            "Number of rows where amount is null:  7795\n",
            "Number of rows where amount is null and order is cancelled:  7566\n",
            "97.06 % -> amount null due to orders cancelled\n"
          ]
        }
      ]
    },
    {
      "cell_type": "code",
      "source": [
        "df['Amount'].fillna(0,inplace=True)\n",
        "df.where(df['Amount']==0).dropna().head(3)"
      ],
      "metadata": {
        "colab": {
          "base_uri": "https://localhost:8080/",
          "height": 358
        },
        "id": "Yf3fZkAGHJYi",
        "outputId": "c8143819-7242-4c73-e8d2-6dd20579ce81"
      },
      "execution_count": 34,
      "outputs": [
        {
          "output_type": "execute_result",
          "data": {
            "text/plain": [
              "    index             Order_ID       Date     Status Fulfilment  \\\n",
              "8     8.0  407-5443024-5233168 2022-04-30  Cancelled     Amazon   \n",
              "29   29.0  404-5933402-8801952 2022-04-30  Cancelled   Merchant   \n",
              "65   65.0  171-4137548-0481151 2022-04-30  Cancelled     Amazon   \n",
              "\n",
              "   Sales_Channel_ ship_service_level    Style                  SKU Category  \\\n",
              "8       Amazon.in          Expedited   SET200  SET200-KR-NP-A-XXXL      Set   \n",
              "29      Amazon.in           Standard  JNE2132  JNE2132-KR-398-XXXL    kurta   \n",
              "65      Amazon.in          Expedited  JNE3373       JNE3373-KR-XXL    kurta   \n",
              "\n",
              "    ...        ASIN Courier_Status  Qty  Amount  ship_city ship_state  \\\n",
              "8   ...  B08L91ZZXN      Cancelled  0.0     0.0  HYDERABAD  TELANGANA   \n",
              "29  ...  B07JG3CND8        Unknown  0.0     0.0   GUWAHATI      ASSAM   \n",
              "65  ...  B082W8RWN1      Cancelled  0.0     0.0      Dahod    Gujarat   \n",
              "\n",
              "   ship_postal_code                                 promotion_ids    B2B  \\\n",
              "8          500008.0  IN Core Free Shipping 2015/04/08 23-48-5-108  False   \n",
              "29         781003.0                                  No promotion  False   \n",
              "65         389151.0                                  No promotion  False   \n",
              "\n",
              "    month  \n",
              "8   April  \n",
              "29  April  \n",
              "65  April  \n",
              "\n",
              "[3 rows x 21 columns]"
            ],
            "text/html": [
              "\n",
              "  <div id=\"df-6dedadd3-c4b5-4a4a-9547-340338fdfdf9\">\n",
              "    <div class=\"colab-df-container\">\n",
              "      <div>\n",
              "<style scoped>\n",
              "    .dataframe tbody tr th:only-of-type {\n",
              "        vertical-align: middle;\n",
              "    }\n",
              "\n",
              "    .dataframe tbody tr th {\n",
              "        vertical-align: top;\n",
              "    }\n",
              "\n",
              "    .dataframe thead th {\n",
              "        text-align: right;\n",
              "    }\n",
              "</style>\n",
              "<table border=\"1\" class=\"dataframe\">\n",
              "  <thead>\n",
              "    <tr style=\"text-align: right;\">\n",
              "      <th></th>\n",
              "      <th>index</th>\n",
              "      <th>Order_ID</th>\n",
              "      <th>Date</th>\n",
              "      <th>Status</th>\n",
              "      <th>Fulfilment</th>\n",
              "      <th>Sales_Channel_</th>\n",
              "      <th>ship_service_level</th>\n",
              "      <th>Style</th>\n",
              "      <th>SKU</th>\n",
              "      <th>Category</th>\n",
              "      <th>...</th>\n",
              "      <th>ASIN</th>\n",
              "      <th>Courier_Status</th>\n",
              "      <th>Qty</th>\n",
              "      <th>Amount</th>\n",
              "      <th>ship_city</th>\n",
              "      <th>ship_state</th>\n",
              "      <th>ship_postal_code</th>\n",
              "      <th>promotion_ids</th>\n",
              "      <th>B2B</th>\n",
              "      <th>month</th>\n",
              "    </tr>\n",
              "  </thead>\n",
              "  <tbody>\n",
              "    <tr>\n",
              "      <th>8</th>\n",
              "      <td>8.0</td>\n",
              "      <td>407-5443024-5233168</td>\n",
              "      <td>2022-04-30</td>\n",
              "      <td>Cancelled</td>\n",
              "      <td>Amazon</td>\n",
              "      <td>Amazon.in</td>\n",
              "      <td>Expedited</td>\n",
              "      <td>SET200</td>\n",
              "      <td>SET200-KR-NP-A-XXXL</td>\n",
              "      <td>Set</td>\n",
              "      <td>...</td>\n",
              "      <td>B08L91ZZXN</td>\n",
              "      <td>Cancelled</td>\n",
              "      <td>0.0</td>\n",
              "      <td>0.0</td>\n",
              "      <td>HYDERABAD</td>\n",
              "      <td>TELANGANA</td>\n",
              "      <td>500008.0</td>\n",
              "      <td>IN Core Free Shipping 2015/04/08 23-48-5-108</td>\n",
              "      <td>False</td>\n",
              "      <td>April</td>\n",
              "    </tr>\n",
              "    <tr>\n",
              "      <th>29</th>\n",
              "      <td>29.0</td>\n",
              "      <td>404-5933402-8801952</td>\n",
              "      <td>2022-04-30</td>\n",
              "      <td>Cancelled</td>\n",
              "      <td>Merchant</td>\n",
              "      <td>Amazon.in</td>\n",
              "      <td>Standard</td>\n",
              "      <td>JNE2132</td>\n",
              "      <td>JNE2132-KR-398-XXXL</td>\n",
              "      <td>kurta</td>\n",
              "      <td>...</td>\n",
              "      <td>B07JG3CND8</td>\n",
              "      <td>Unknown</td>\n",
              "      <td>0.0</td>\n",
              "      <td>0.0</td>\n",
              "      <td>GUWAHATI</td>\n",
              "      <td>ASSAM</td>\n",
              "      <td>781003.0</td>\n",
              "      <td>No promotion</td>\n",
              "      <td>False</td>\n",
              "      <td>April</td>\n",
              "    </tr>\n",
              "    <tr>\n",
              "      <th>65</th>\n",
              "      <td>65.0</td>\n",
              "      <td>171-4137548-0481151</td>\n",
              "      <td>2022-04-30</td>\n",
              "      <td>Cancelled</td>\n",
              "      <td>Amazon</td>\n",
              "      <td>Amazon.in</td>\n",
              "      <td>Expedited</td>\n",
              "      <td>JNE3373</td>\n",
              "      <td>JNE3373-KR-XXL</td>\n",
              "      <td>kurta</td>\n",
              "      <td>...</td>\n",
              "      <td>B082W8RWN1</td>\n",
              "      <td>Cancelled</td>\n",
              "      <td>0.0</td>\n",
              "      <td>0.0</td>\n",
              "      <td>Dahod</td>\n",
              "      <td>Gujarat</td>\n",
              "      <td>389151.0</td>\n",
              "      <td>No promotion</td>\n",
              "      <td>False</td>\n",
              "      <td>April</td>\n",
              "    </tr>\n",
              "  </tbody>\n",
              "</table>\n",
              "<p>3 rows × 21 columns</p>\n",
              "</div>\n",
              "      <button class=\"colab-df-convert\" onclick=\"convertToInteractive('df-6dedadd3-c4b5-4a4a-9547-340338fdfdf9')\"\n",
              "              title=\"Convert this dataframe to an interactive table.\"\n",
              "              style=\"display:none;\">\n",
              "        \n",
              "  <svg xmlns=\"http://www.w3.org/2000/svg\" height=\"24px\"viewBox=\"0 0 24 24\"\n",
              "       width=\"24px\">\n",
              "    <path d=\"M0 0h24v24H0V0z\" fill=\"none\"/>\n",
              "    <path d=\"M18.56 5.44l.94 2.06.94-2.06 2.06-.94-2.06-.94-.94-2.06-.94 2.06-2.06.94zm-11 1L8.5 8.5l.94-2.06 2.06-.94-2.06-.94L8.5 2.5l-.94 2.06-2.06.94zm10 10l.94 2.06.94-2.06 2.06-.94-2.06-.94-.94-2.06-.94 2.06-2.06.94z\"/><path d=\"M17.41 7.96l-1.37-1.37c-.4-.4-.92-.59-1.43-.59-.52 0-1.04.2-1.43.59L10.3 9.45l-7.72 7.72c-.78.78-.78 2.05 0 2.83L4 21.41c.39.39.9.59 1.41.59.51 0 1.02-.2 1.41-.59l7.78-7.78 2.81-2.81c.8-.78.8-2.07 0-2.86zM5.41 20L4 18.59l7.72-7.72 1.47 1.35L5.41 20z\"/>\n",
              "  </svg>\n",
              "      </button>\n",
              "      \n",
              "  <style>\n",
              "    .colab-df-container {\n",
              "      display:flex;\n",
              "      flex-wrap:wrap;\n",
              "      gap: 12px;\n",
              "    }\n",
              "\n",
              "    .colab-df-convert {\n",
              "      background-color: #E8F0FE;\n",
              "      border: none;\n",
              "      border-radius: 50%;\n",
              "      cursor: pointer;\n",
              "      display: none;\n",
              "      fill: #1967D2;\n",
              "      height: 32px;\n",
              "      padding: 0 0 0 0;\n",
              "      width: 32px;\n",
              "    }\n",
              "\n",
              "    .colab-df-convert:hover {\n",
              "      background-color: #E2EBFA;\n",
              "      box-shadow: 0px 1px 2px rgba(60, 64, 67, 0.3), 0px 1px 3px 1px rgba(60, 64, 67, 0.15);\n",
              "      fill: #174EA6;\n",
              "    }\n",
              "\n",
              "    [theme=dark] .colab-df-convert {\n",
              "      background-color: #3B4455;\n",
              "      fill: #D2E3FC;\n",
              "    }\n",
              "\n",
              "    [theme=dark] .colab-df-convert:hover {\n",
              "      background-color: #434B5C;\n",
              "      box-shadow: 0px 1px 3px 1px rgba(0, 0, 0, 0.15);\n",
              "      filter: drop-shadow(0px 1px 2px rgba(0, 0, 0, 0.3));\n",
              "      fill: #FFFFFF;\n",
              "    }\n",
              "  </style>\n",
              "\n",
              "      <script>\n",
              "        const buttonEl =\n",
              "          document.querySelector('#df-6dedadd3-c4b5-4a4a-9547-340338fdfdf9 button.colab-df-convert');\n",
              "        buttonEl.style.display =\n",
              "          google.colab.kernel.accessAllowed ? 'block' : 'none';\n",
              "\n",
              "        async function convertToInteractive(key) {\n",
              "          const element = document.querySelector('#df-6dedadd3-c4b5-4a4a-9547-340338fdfdf9');\n",
              "          const dataTable =\n",
              "            await google.colab.kernel.invokeFunction('convertToInteractive',\n",
              "                                                     [key], {});\n",
              "          if (!dataTable) return;\n",
              "\n",
              "          const docLinkHtml = 'Like what you see? Visit the ' +\n",
              "            '<a target=\"_blank\" href=https://colab.research.google.com/notebooks/data_table.ipynb>data table notebook</a>'\n",
              "            + ' to learn more about interactive tables.';\n",
              "          element.innerHTML = '';\n",
              "          dataTable['output_type'] = 'display_data';\n",
              "          await google.colab.output.renderOutput(dataTable, element);\n",
              "          const docLink = document.createElement('div');\n",
              "          docLink.innerHTML = docLinkHtml;\n",
              "          element.appendChild(docLink);\n",
              "        }\n",
              "      </script>\n",
              "    </div>\n",
              "  </div>\n",
              "  "
            ]
          },
          "metadata": {},
          "execution_count": 34
        }
      ]
    },
    {
      "cell_type": "code",
      "source": [
        "df['ship_city'].fillna('unknown', inplace = True)\n",
        "df['ship_state'].fillna('unknown', inplace = True)\n",
        "df['ship_postal_code'].fillna('unknown', inplace = True)"
      ],
      "metadata": {
        "id": "zXlfY72LI-h3"
      },
      "execution_count": 35,
      "outputs": []
    },
    {
      "cell_type": "markdown",
      "source": [
        "## 📊 Visualisations 📈"
      ],
      "metadata": {
        "id": "z8K0PfkoKhio"
      }
    },
    {
      "cell_type": "markdown",
      "source": [
        "check if the data is ready for visualisations"
      ],
      "metadata": {
        "id": "yJCzE4v8MrdQ"
      }
    },
    {
      "cell_type": "code",
      "source": [
        "df.isnull().sum()"
      ],
      "metadata": {
        "colab": {
          "base_uri": "https://localhost:8080/"
        },
        "id": "ld3McxP2K1qM",
        "outputId": "307cd936-e415-4c93-c6a7-3140b578c8c9"
      },
      "execution_count": 36,
      "outputs": [
        {
          "output_type": "execute_result",
          "data": {
            "text/plain": [
              "index                 0\n",
              "Order_ID              0\n",
              "Date                  0\n",
              "Status                0\n",
              "Fulfilment            0\n",
              "Sales_Channel_        0\n",
              "ship_service_level    0\n",
              "Style                 0\n",
              "SKU                   0\n",
              "Category              0\n",
              "Size                  0\n",
              "ASIN                  0\n",
              "Courier_Status        0\n",
              "Qty                   0\n",
              "Amount                0\n",
              "ship_city             0\n",
              "ship_state            0\n",
              "ship_postal_code      0\n",
              "promotion_ids         0\n",
              "B2B                   0\n",
              "month                 0\n",
              "dtype: int64"
            ]
          },
          "metadata": {},
          "execution_count": 36
        }
      ]
    },
    {
      "cell_type": "markdown",
      "source": [
        "### Research Questions Visualising"
      ],
      "metadata": {
        "id": "-y3KtA2daB1q"
      }
    },
    {
      "cell_type": "markdown",
      "source": [
        "#### Question 1: variation of sales w.r.t. months in the second quartile"
      ],
      "metadata": {
        "id": "OkP0MvbEaHDO"
      }
    },
    {
      "cell_type": "code",
      "source": [
        "var=df[['month','Amount']]\n",
        "# Not including march\n",
        "# Define the desired order for the 'month' column\n",
        "month_order = ['April','May','June']\n",
        "\n",
        "# Create an ordered categorical variable for the 'size' column\n",
        "var['month'] = pd.Categorical(var['month'], categories=month_order, ordered=True)\n",
        "var.head()"
      ],
      "metadata": {
        "colab": {
          "base_uri": "https://localhost:8080/",
          "height": 310
        },
        "id": "ixU7RNZuaBMn",
        "outputId": "8a050573-de15-44f2-83c3-1e3eb348b2ec"
      },
      "execution_count": 37,
      "outputs": [
        {
          "output_type": "stream",
          "name": "stderr",
          "text": [
            "<ipython-input-37-5343acd9fd6f>:7: SettingWithCopyWarning: \n",
            "A value is trying to be set on a copy of a slice from a DataFrame.\n",
            "Try using .loc[row_indexer,col_indexer] = value instead\n",
            "\n",
            "See the caveats in the documentation: https://pandas.pydata.org/pandas-docs/stable/user_guide/indexing.html#returning-a-view-versus-a-copy\n",
            "  var['month'] = pd.Categorical(var['month'], categories=month_order, ordered=True)\n"
          ]
        },
        {
          "output_type": "execute_result",
          "data": {
            "text/plain": [
              "   month  Amount\n",
              "0  April  647.62\n",
              "1  April  406.00\n",
              "2  April  329.00\n",
              "3  April  753.33\n",
              "4  April  574.00"
            ],
            "text/html": [
              "\n",
              "  <div id=\"df-0ec732b7-ed87-4a95-85b5-3c21b0f8c025\">\n",
              "    <div class=\"colab-df-container\">\n",
              "      <div>\n",
              "<style scoped>\n",
              "    .dataframe tbody tr th:only-of-type {\n",
              "        vertical-align: middle;\n",
              "    }\n",
              "\n",
              "    .dataframe tbody tr th {\n",
              "        vertical-align: top;\n",
              "    }\n",
              "\n",
              "    .dataframe thead th {\n",
              "        text-align: right;\n",
              "    }\n",
              "</style>\n",
              "<table border=\"1\" class=\"dataframe\">\n",
              "  <thead>\n",
              "    <tr style=\"text-align: right;\">\n",
              "      <th></th>\n",
              "      <th>month</th>\n",
              "      <th>Amount</th>\n",
              "    </tr>\n",
              "  </thead>\n",
              "  <tbody>\n",
              "    <tr>\n",
              "      <th>0</th>\n",
              "      <td>April</td>\n",
              "      <td>647.62</td>\n",
              "    </tr>\n",
              "    <tr>\n",
              "      <th>1</th>\n",
              "      <td>April</td>\n",
              "      <td>406.00</td>\n",
              "    </tr>\n",
              "    <tr>\n",
              "      <th>2</th>\n",
              "      <td>April</td>\n",
              "      <td>329.00</td>\n",
              "    </tr>\n",
              "    <tr>\n",
              "      <th>3</th>\n",
              "      <td>April</td>\n",
              "      <td>753.33</td>\n",
              "    </tr>\n",
              "    <tr>\n",
              "      <th>4</th>\n",
              "      <td>April</td>\n",
              "      <td>574.00</td>\n",
              "    </tr>\n",
              "  </tbody>\n",
              "</table>\n",
              "</div>\n",
              "      <button class=\"colab-df-convert\" onclick=\"convertToInteractive('df-0ec732b7-ed87-4a95-85b5-3c21b0f8c025')\"\n",
              "              title=\"Convert this dataframe to an interactive table.\"\n",
              "              style=\"display:none;\">\n",
              "        \n",
              "  <svg xmlns=\"http://www.w3.org/2000/svg\" height=\"24px\"viewBox=\"0 0 24 24\"\n",
              "       width=\"24px\">\n",
              "    <path d=\"M0 0h24v24H0V0z\" fill=\"none\"/>\n",
              "    <path d=\"M18.56 5.44l.94 2.06.94-2.06 2.06-.94-2.06-.94-.94-2.06-.94 2.06-2.06.94zm-11 1L8.5 8.5l.94-2.06 2.06-.94-2.06-.94L8.5 2.5l-.94 2.06-2.06.94zm10 10l.94 2.06.94-2.06 2.06-.94-2.06-.94-.94-2.06-.94 2.06-2.06.94z\"/><path d=\"M17.41 7.96l-1.37-1.37c-.4-.4-.92-.59-1.43-.59-.52 0-1.04.2-1.43.59L10.3 9.45l-7.72 7.72c-.78.78-.78 2.05 0 2.83L4 21.41c.39.39.9.59 1.41.59.51 0 1.02-.2 1.41-.59l7.78-7.78 2.81-2.81c.8-.78.8-2.07 0-2.86zM5.41 20L4 18.59l7.72-7.72 1.47 1.35L5.41 20z\"/>\n",
              "  </svg>\n",
              "      </button>\n",
              "      \n",
              "  <style>\n",
              "    .colab-df-container {\n",
              "      display:flex;\n",
              "      flex-wrap:wrap;\n",
              "      gap: 12px;\n",
              "    }\n",
              "\n",
              "    .colab-df-convert {\n",
              "      background-color: #E8F0FE;\n",
              "      border: none;\n",
              "      border-radius: 50%;\n",
              "      cursor: pointer;\n",
              "      display: none;\n",
              "      fill: #1967D2;\n",
              "      height: 32px;\n",
              "      padding: 0 0 0 0;\n",
              "      width: 32px;\n",
              "    }\n",
              "\n",
              "    .colab-df-convert:hover {\n",
              "      background-color: #E2EBFA;\n",
              "      box-shadow: 0px 1px 2px rgba(60, 64, 67, 0.3), 0px 1px 3px 1px rgba(60, 64, 67, 0.15);\n",
              "      fill: #174EA6;\n",
              "    }\n",
              "\n",
              "    [theme=dark] .colab-df-convert {\n",
              "      background-color: #3B4455;\n",
              "      fill: #D2E3FC;\n",
              "    }\n",
              "\n",
              "    [theme=dark] .colab-df-convert:hover {\n",
              "      background-color: #434B5C;\n",
              "      box-shadow: 0px 1px 3px 1px rgba(0, 0, 0, 0.15);\n",
              "      filter: drop-shadow(0px 1px 2px rgba(0, 0, 0, 0.3));\n",
              "      fill: #FFFFFF;\n",
              "    }\n",
              "  </style>\n",
              "\n",
              "      <script>\n",
              "        const buttonEl =\n",
              "          document.querySelector('#df-0ec732b7-ed87-4a95-85b5-3c21b0f8c025 button.colab-df-convert');\n",
              "        buttonEl.style.display =\n",
              "          google.colab.kernel.accessAllowed ? 'block' : 'none';\n",
              "\n",
              "        async function convertToInteractive(key) {\n",
              "          const element = document.querySelector('#df-0ec732b7-ed87-4a95-85b5-3c21b0f8c025');\n",
              "          const dataTable =\n",
              "            await google.colab.kernel.invokeFunction('convertToInteractive',\n",
              "                                                     [key], {});\n",
              "          if (!dataTable) return;\n",
              "\n",
              "          const docLinkHtml = 'Like what you see? Visit the ' +\n",
              "            '<a target=\"_blank\" href=https://colab.research.google.com/notebooks/data_table.ipynb>data table notebook</a>'\n",
              "            + ' to learn more about interactive tables.';\n",
              "          element.innerHTML = '';\n",
              "          dataTable['output_type'] = 'display_data';\n",
              "          await google.colab.output.renderOutput(dataTable, element);\n",
              "          const docLink = document.createElement('div');\n",
              "          docLink.innerHTML = docLinkHtml;\n",
              "          element.appendChild(docLink);\n",
              "        }\n",
              "      </script>\n",
              "    </div>\n",
              "  </div>\n",
              "  "
            ]
          },
          "metadata": {},
          "execution_count": 37
        }
      ]
    },
    {
      "cell_type": "code",
      "source": [
        "print('Revenues for the particular months')\n",
        "var=var.groupby(\"month\")['Amount'].sum()\n",
        "var"
      ],
      "metadata": {
        "colab": {
          "base_uri": "https://localhost:8080/"
        },
        "id": "rHaTmtLVXoG0",
        "outputId": "eaddc657-b460-4386-88e4-3b5d89e4231c"
      },
      "execution_count": 42,
      "outputs": [
        {
          "output_type": "stream",
          "name": "stdout",
          "text": [
            "Revenues for the particular months\n"
          ]
        },
        {
          "output_type": "execute_result",
          "data": {
            "text/plain": [
              "month\n",
              "April    28838708.32\n",
              "May      26226476.75\n",
              "June     23425809.38\n",
              "Name: Amount, dtype: float64"
            ]
          },
          "metadata": {},
          "execution_count": 42
        }
      ]
    },
    {
      "cell_type": "markdown",
      "source": [
        "Since March only has 1 day (31 March) in the dataset, it needs to be dropped"
      ],
      "metadata": {
        "id": "-RLGsGF_dHF0"
      }
    },
    {
      "cell_type": "code",
      "source": [
        "var=var.to_frame()"
      ],
      "metadata": {
        "id": "-nlr2IuCeHpX"
      },
      "execution_count": 39,
      "outputs": []
    },
    {
      "cell_type": "code",
      "source": [
        "print(type(var))\n",
        "var"
      ],
      "metadata": {
        "colab": {
          "base_uri": "https://localhost:8080/"
        },
        "id": "iszidFtHfoC2",
        "outputId": "f21b617c-12fb-4c43-b4de-b76889bb905c"
      },
      "execution_count": 43,
      "outputs": [
        {
          "output_type": "stream",
          "name": "stdout",
          "text": [
            "<class 'pandas.core.series.Series'>\n"
          ]
        },
        {
          "output_type": "execute_result",
          "data": {
            "text/plain": [
              "month\n",
              "April    28838708.32\n",
              "May      26226476.75\n",
              "June     23425809.38\n",
              "Name: Amount, dtype: float64"
            ]
          },
          "metadata": {},
          "execution_count": 43
        }
      ]
    },
    {
      "cell_type": "code",
      "source": [
        "# Calculating percentage decrease\n",
        "d1=(var.April - var.May)/var.April *100\n",
        "d1\n",
        "d2=(var.May - var.June)/var.May *100\n",
        "d2"
      ],
      "metadata": {
        "colab": {
          "base_uri": "https://localhost:8080/"
        },
        "id": "0yvC5Kv9KrWO",
        "outputId": "f650aaf4-7a7d-45fe-eb64-7b6adca20d68"
      },
      "execution_count": 44,
      "outputs": [
        {
          "output_type": "execute_result",
          "data": {
            "text/plain": [
              "10.67877853627442"
            ]
          },
          "metadata": {},
          "execution_count": 44
        }
      ]
    },
    {
      "cell_type": "code",
      "source": [
        "# Size of the figure\n",
        "from matplotlib.pyplot import figure\n",
        "figure(figsize=(8, 6), dpi=80)\n",
        "\n",
        "# Style and Color\n",
        "sns.set_style(style='whitegrid')\n",
        "color=sns.color_palette(\"Set2\",desat=0.5)[5]\n",
        "\n",
        "# Bar plot\n",
        "var.plot.bar(color=color)\n",
        "\n",
        "# Axes and Figure\n",
        "ax=plt.gca()\n",
        "fig=plt.gcf()\n",
        "ax.xaxis.label.set_visible(False)\n",
        "plt.xticks(rotation=45)\n",
        "\n",
        "# Title\n",
        "ax.set_title('Amazon India Net Revenue', fontsize=20, x=.19, y=1.05)\n",
        "ax.text(-.08, 1.02, 'Q2 FY22', fontsize=15, color='#878787', transform=ax.transAxes)\n",
        "\n",
        "# Y axis Ticks and Label\n",
        "ax.set_yticklabels(list(range(0,35,5)));\n",
        "ax.set_ylabel('Net Revenue in 10,00,000 (0.1 cr) INR', fontsize=12, labelpad=3)\n",
        "\n",
        "# Legend\n",
        "ax.legend().set_visible(False)\n",
        "ax.get_legend().remove()\n",
        "\n",
        "# Spines\n",
        "ax.spines['top'].set_visible(False)\n",
        "ax.spines['right'].set_visible(False)\n",
        "ax.spines['left'].set_visible(False)\n",
        "ax.spines['bottom'].set_linewidth(2)\n",
        "ax.spines['bottom'].set_color('black')\n",
        "\n",
        "# Line plot\n",
        "var.plot.line(linestyle='--', linewidth=2, color='black', marker='o')\n",
        "#ax.plot(var.index, var['Amount'], linestyle='--', linewidth=2, color='black', marker='o')\n",
        "\n",
        "# Adding text between 2 bars\n",
        "plt.text(0.25, var.May-2000000, \" 9.05% decrease\",color='black',size=13)\n",
        "plt.text(1.25, var.June-2000000, \"10.67% decrease\",color='black',size=13)\n",
        "\n",
        "plt.show();"
      ],
      "metadata": {
        "colab": {
          "base_uri": "https://localhost:8080/",
          "height": 496
        },
        "id": "cMsLy2VPbXv8",
        "outputId": "99914f2c-df82-42f6-e4a8-87d7729b36ce"
      },
      "execution_count": 179,
      "outputs": [
        {
          "output_type": "stream",
          "name": "stderr",
          "text": [
            "<ipython-input-179-3ea499216508>:23: UserWarning: FixedFormatter should only be used together with FixedLocator\n",
            "  ax.set_yticklabels(list(range(0,35,5)));\n"
          ]
        },
        {
          "output_type": "display_data",
          "data": {
            "text/plain": [
              "<Figure size 640x480 with 1 Axes>"
            ],
            "image/png": "[encoded data removed]"
          },
          "metadata": {}
        }
      ]
    },
    {
      "cell_type": "markdown",
      "source": [
        "#### Question 2: product categories or styles that generate the highest sales revenue"
      ],
      "metadata": {
        "id": "JXOfMdZZOClN"
      }
    },
    {
      "cell_type": "markdown",
      "source": [
        "Dropping March"
      ],
      "metadata": {
        "id": "_8KdxzeRJZp1"
      }
    },
    {
      "cell_type": "code",
      "source": [
        "df=df.where(df['month']!='March').dropna()\n",
        "df[df['month']=='March']"
      ],
      "metadata": {
        "colab": {
          "base_uri": "https://localhost:8080/",
          "height": 143
        },
        "id": "uSTm_lMTIl1k",
        "outputId": "1230defc-560e-4519-a2c2-26671837238c"
      },
      "execution_count": 86,
      "outputs": [
        {
          "output_type": "execute_result",
          "data": {
            "text/plain": [
              "Empty DataFrame\n",
              "Columns: [index, Order_ID, Date, Status, Fulfilment, Sales_Channel_, ship_service_level, Style, SKU, Category, Size, ASIN, Courier_Status, Qty, Amount, ship_city, ship_state, ship_postal_code, promotion_ids, B2B, month]\n",
              "Index: []\n",
              "\n",
              "[0 rows x 21 columns]"
            ],
            "text/html": [
              "\n",
              "  <div id=\"df-7dfe03b0-2ee3-4f49-af72-4b9f7778f040\">\n",
              "    <div class=\"colab-df-container\">\n",
              "      <div>\n",
              "<style scoped>\n",
              "    .dataframe tbody tr th:only-of-type {\n",
              "        vertical-align: middle;\n",
              "    }\n",
              "\n",
              "    .dataframe tbody tr th {\n",
              "        vertical-align: top;\n",
              "    }\n",
              "\n",
              "    .dataframe thead th {\n",
              "        text-align: right;\n",
              "    }\n",
              "</style>\n",
              "<table border=\"1\" class=\"dataframe\">\n",
              "  <thead>\n",
              "    <tr style=\"text-align: right;\">\n",
              "      <th></th>\n",
              "      <th>index</th>\n",
              "      <th>Order_ID</th>\n",
              "      <th>Date</th>\n",
              "      <th>Status</th>\n",
              "      <th>Fulfilment</th>\n",
              "      <th>Sales_Channel_</th>\n",
              "      <th>ship_service_level</th>\n",
              "      <th>Style</th>\n",
              "      <th>SKU</th>\n",
              "      <th>Category</th>\n",
              "      <th>...</th>\n",
              "      <th>ASIN</th>\n",
              "      <th>Courier_Status</th>\n",
              "      <th>Qty</th>\n",
              "      <th>Amount</th>\n",
              "      <th>ship_city</th>\n",
              "      <th>ship_state</th>\n",
              "      <th>ship_postal_code</th>\n",
              "      <th>promotion_ids</th>\n",
              "      <th>B2B</th>\n",
              "      <th>month</th>\n",
              "    </tr>\n",
              "  </thead>\n",
              "  <tbody>\n",
              "  </tbody>\n",
              "</table>\n",
              "<p>0 rows × 21 columns</p>\n",
              "</div>\n",
              "      <button class=\"colab-df-convert\" onclick=\"convertToInteractive('df-7dfe03b0-2ee3-4f49-af72-4b9f7778f040')\"\n",
              "              title=\"Convert this dataframe to an interactive table.\"\n",
              "              style=\"display:none;\">\n",
              "        \n",
              "  <svg xmlns=\"http://www.w3.org/2000/svg\" height=\"24px\"viewBox=\"0 0 24 24\"\n",
              "       width=\"24px\">\n",
              "    <path d=\"M0 0h24v24H0V0z\" fill=\"none\"/>\n",
              "    <path d=\"M18.56 5.44l.94 2.06.94-2.06 2.06-.94-2.06-.94-.94-2.06-.94 2.06-2.06.94zm-11 1L8.5 8.5l.94-2.06 2.06-.94-2.06-.94L8.5 2.5l-.94 2.06-2.06.94zm10 10l.94 2.06.94-2.06 2.06-.94-2.06-.94-.94-2.06-.94 2.06-2.06.94z\"/><path d=\"M17.41 7.96l-1.37-1.37c-.4-.4-.92-.59-1.43-.59-.52 0-1.04.2-1.43.59L10.3 9.45l-7.72 7.72c-.78.78-.78 2.05 0 2.83L4 21.41c.39.39.9.59 1.41.59.51 0 1.02-.2 1.41-.59l7.78-7.78 2.81-2.81c.8-.78.8-2.07 0-2.86zM5.41 20L4 18.59l7.72-7.72 1.47 1.35L5.41 20z\"/>\n",
              "  </svg>\n",
              "      </button>\n",
              "      \n",
              "  <style>\n",
              "    .colab-df-container {\n",
              "      display:flex;\n",
              "      flex-wrap:wrap;\n",
              "      gap: 12px;\n",
              "    }\n",
              "\n",
              "    .colab-df-convert {\n",
              "      background-color: #E8F0FE;\n",
              "      border: none;\n",
              "      border-radius: 50%;\n",
              "      cursor: pointer;\n",
              "      display: none;\n",
              "      fill: #1967D2;\n",
              "      height: 32px;\n",
              "      padding: 0 0 0 0;\n",
              "      width: 32px;\n",
              "    }\n",
              "\n",
              "    .colab-df-convert:hover {\n",
              "      background-color: #E2EBFA;\n",
              "      box-shadow: 0px 1px 2px rgba(60, 64, 67, 0.3), 0px 1px 3px 1px rgba(60, 64, 67, 0.15);\n",
              "      fill: #174EA6;\n",
              "    }\n",
              "\n",
              "    [theme=dark] .colab-df-convert {\n",
              "      background-color: #3B4455;\n",
              "      fill: #D2E3FC;\n",
              "    }\n",
              "\n",
              "    [theme=dark] .colab-df-convert:hover {\n",
              "      background-color: #434B5C;\n",
              "      box-shadow: 0px 1px 3px 1px rgba(0, 0, 0, 0.15);\n",
              "      filter: drop-shadow(0px 1px 2px rgba(0, 0, 0, 0.3));\n",
              "      fill: #FFFFFF;\n",
              "    }\n",
              "  </style>\n",
              "\n",
              "      <script>\n",
              "        const buttonEl =\n",
              "          document.querySelector('#df-7dfe03b0-2ee3-4f49-af72-4b9f7778f040 button.colab-df-convert');\n",
              "        buttonEl.style.display =\n",
              "          google.colab.kernel.accessAllowed ? 'block' : 'none';\n",
              "\n",
              "        async function convertToInteractive(key) {\n",
              "          const element = document.querySelector('#df-7dfe03b0-2ee3-4f49-af72-4b9f7778f040');\n",
              "          const dataTable =\n",
              "            await google.colab.kernel.invokeFunction('convertToInteractive',\n",
              "                                                     [key], {});\n",
              "          if (!dataTable) return;\n",
              "\n",
              "          const docLinkHtml = 'Like what you see? Visit the ' +\n",
              "            '<a target=\"_blank\" href=https://colab.research.google.com/notebooks/data_table.ipynb>data table notebook</a>'\n",
              "            + ' to learn more about interactive tables.';\n",
              "          element.innerHTML = '';\n",
              "          dataTable['output_type'] = 'display_data';\n",
              "          await google.colab.output.renderOutput(dataTable, element);\n",
              "          const docLink = document.createElement('div');\n",
              "          docLink.innerHTML = docLinkHtml;\n",
              "          element.appendChild(docLink);\n",
              "        }\n",
              "      </script>\n",
              "    </div>\n",
              "  </div>\n",
              "  "
            ]
          },
          "metadata": {},
          "execution_count": 86
        }
      ]
    },
    {
      "cell_type": "code",
      "source": [
        "prod=df[['Category','Amount']]\n",
        "prod.head()"
      ],
      "metadata": {
        "id": "u5XxTdgmOP4O",
        "colab": {
          "base_uri": "https://localhost:8080/",
          "height": 206
        },
        "outputId": "9673847a-364b-44ba-a186-5891c5ad603c"
      },
      "execution_count": 87,
      "outputs": [
        {
          "output_type": "execute_result",
          "data": {
            "text/plain": [
              "        Category  Amount\n",
              "0            Set  647.62\n",
              "1          kurta  406.00\n",
              "2          kurta  329.00\n",
              "3  Western Dress  753.33\n",
              "4            Top  574.00"
            ],
            "text/html": [
              "\n",
              "  <div id=\"df-cbf35e20-d9fb-4097-af65-44b020e77c28\">\n",
              "    <div class=\"colab-df-container\">\n",
              "      <div>\n",
              "<style scoped>\n",
              "    .dataframe tbody tr th:only-of-type {\n",
              "        vertical-align: middle;\n",
              "    }\n",
              "\n",
              "    .dataframe tbody tr th {\n",
              "        vertical-align: top;\n",
              "    }\n",
              "\n",
              "    .dataframe thead th {\n",
              "        text-align: right;\n",
              "    }\n",
              "</style>\n",
              "<table border=\"1\" class=\"dataframe\">\n",
              "  <thead>\n",
              "    <tr style=\"text-align: right;\">\n",
              "      <th></th>\n",
              "      <th>Category</th>\n",
              "      <th>Amount</th>\n",
              "    </tr>\n",
              "  </thead>\n",
              "  <tbody>\n",
              "    <tr>\n",
              "      <th>0</th>\n",
              "      <td>Set</td>\n",
              "      <td>647.62</td>\n",
              "    </tr>\n",
              "    <tr>\n",
              "      <th>1</th>\n",
              "      <td>kurta</td>\n",
              "      <td>406.00</td>\n",
              "    </tr>\n",
              "    <tr>\n",
              "      <th>2</th>\n",
              "      <td>kurta</td>\n",
              "      <td>329.00</td>\n",
              "    </tr>\n",
              "    <tr>\n",
              "      <th>3</th>\n",
              "      <td>Western Dress</td>\n",
              "      <td>753.33</td>\n",
              "    </tr>\n",
              "    <tr>\n",
              "      <th>4</th>\n",
              "      <td>Top</td>\n",
              "      <td>574.00</td>\n",
              "    </tr>\n",
              "  </tbody>\n",
              "</table>\n",
              "</div>\n",
              "      <button class=\"colab-df-convert\" onclick=\"convertToInteractive('df-cbf35e20-d9fb-4097-af65-44b020e77c28')\"\n",
              "              title=\"Convert this dataframe to an interactive table.\"\n",
              "              style=\"display:none;\">\n",
              "        \n",
              "  <svg xmlns=\"http://www.w3.org/2000/svg\" height=\"24px\"viewBox=\"0 0 24 24\"\n",
              "       width=\"24px\">\n",
              "    <path d=\"M0 0h24v24H0V0z\" fill=\"none\"/>\n",
              "    <path d=\"M18.56 5.44l.94 2.06.94-2.06 2.06-.94-2.06-.94-.94-2.06-.94 2.06-2.06.94zm-11 1L8.5 8.5l.94-2.06 2.06-.94-2.06-.94L8.5 2.5l-.94 2.06-2.06.94zm10 10l.94 2.06.94-2.06 2.06-.94-2.06-.94-.94-2.06-.94 2.06-2.06.94z\"/><path d=\"M17.41 7.96l-1.37-1.37c-.4-.4-.92-.59-1.43-.59-.52 0-1.04.2-1.43.59L10.3 9.45l-7.72 7.72c-.78.78-.78 2.05 0 2.83L4 21.41c.39.39.9.59 1.41.59.51 0 1.02-.2 1.41-.59l7.78-7.78 2.81-2.81c.8-.78.8-2.07 0-2.86zM5.41 20L4 18.59l7.72-7.72 1.47 1.35L5.41 20z\"/>\n",
              "  </svg>\n",
              "      </button>\n",
              "      \n",
              "  <style>\n",
              "    .colab-df-container {\n",
              "      display:flex;\n",
              "      flex-wrap:wrap;\n",
              "      gap: 12px;\n",
              "    }\n",
              "\n",
              "    .colab-df-convert {\n",
              "      background-color: #E8F0FE;\n",
              "      border: none;\n",
              "      border-radius: 50%;\n",
              "      cursor: pointer;\n",
              "      display: none;\n",
              "      fill: #1967D2;\n",
              "      height: 32px;\n",
              "      padding: 0 0 0 0;\n",
              "      width: 32px;\n",
              "    }\n",
              "\n",
              "    .colab-df-convert:hover {\n",
              "      background-color: #E2EBFA;\n",
              "      box-shadow: 0px 1px 2px rgba(60, 64, 67, 0.3), 0px 1px 3px 1px rgba(60, 64, 67, 0.15);\n",
              "      fill: #174EA6;\n",
              "    }\n",
              "\n",
              "    [theme=dark] .colab-df-convert {\n",
              "      background-color: #3B4455;\n",
              "      fill: #D2E3FC;\n",
              "    }\n",
              "\n",
              "    [theme=dark] .colab-df-convert:hover {\n",
              "      background-color: #434B5C;\n",
              "      box-shadow: 0px 1px 3px 1px rgba(0, 0, 0, 0.15);\n",
              "      filter: drop-shadow(0px 1px 2px rgba(0, 0, 0, 0.3));\n",
              "      fill: #FFFFFF;\n",
              "    }\n",
              "  </style>\n",
              "\n",
              "      <script>\n",
              "        const buttonEl =\n",
              "          document.querySelector('#df-cbf35e20-d9fb-4097-af65-44b020e77c28 button.colab-df-convert');\n",
              "        buttonEl.style.display =\n",
              "          google.colab.kernel.accessAllowed ? 'block' : 'none';\n",
              "\n",
              "        async function convertToInteractive(key) {\n",
              "          const element = document.querySelector('#df-cbf35e20-d9fb-4097-af65-44b020e77c28');\n",
              "          const dataTable =\n",
              "            await google.colab.kernel.invokeFunction('convertToInteractive',\n",
              "                                                     [key], {});\n",
              "          if (!dataTable) return;\n",
              "\n",
              "          const docLinkHtml = 'Like what you see? Visit the ' +\n",
              "            '<a target=\"_blank\" href=https://colab.research.google.com/notebooks/data_table.ipynb>data table notebook</a>'\n",
              "            + ' to learn more about interactive tables.';\n",
              "          element.innerHTML = '';\n",
              "          dataTable['output_type'] = 'display_data';\n",
              "          await google.colab.output.renderOutput(dataTable, element);\n",
              "          const docLink = document.createElement('div');\n",
              "          docLink.innerHTML = docLinkHtml;\n",
              "          element.appendChild(docLink);\n",
              "        }\n",
              "      </script>\n",
              "    </div>\n",
              "  </div>\n",
              "  "
            ]
          },
          "metadata": {},
          "execution_count": 87
        }
      ]
    },
    {
      "cell_type": "code",
      "source": [
        "prod=prod.groupby(\"Category\")['Amount'].sum()\n",
        "prod"
      ],
      "metadata": {
        "id": "UFWI6VJSOP0w",
        "colab": {
          "base_uri": "https://localhost:8080/"
        },
        "outputId": "714295d7-8f1c-4cb0-811e-2f2cd6ddd3c4"
      },
      "execution_count": 88,
      "outputs": [
        {
          "output_type": "execute_result",
          "data": {
            "text/plain": [
              "Category\n",
              "Blouse             458128.18\n",
              "Bottom             150667.98\n",
              "Dupatta               915.00\n",
              "Ethnic Dress       790118.66\n",
              "Saree              123933.76\n",
              "Set              39150240.03\n",
              "Top               5343281.30\n",
              "Western Dress    11208419.41\n",
              "kurta            21265290.13\n",
              "Name: Amount, dtype: float64"
            ]
          },
          "metadata": {},
          "execution_count": 88
        }
      ]
    },
    {
      "cell_type": "code",
      "source": [
        "prod.sort_values(ascending=False,inplace=True)\n",
        "prod"
      ],
      "metadata": {
        "id": "bOLtY1EuOPyW",
        "colab": {
          "base_uri": "https://localhost:8080/"
        },
        "outputId": "7d9c98f6-2ab8-43b5-82d9-7397c816011b"
      },
      "execution_count": 127,
      "outputs": [
        {
          "output_type": "execute_result",
          "data": {
            "text/plain": [
              "Category\n",
              "Set              39150240.03\n",
              "kurta            21265290.13\n",
              "Western Dress    11208419.41\n",
              "Top               5343281.30\n",
              "Ethnic Dress       790118.66\n",
              "Blouse             458128.18\n",
              "Bottom             150667.98\n",
              "Saree              123933.76\n",
              "Dupatta               915.00\n",
              "Name: Amount, dtype: float64"
            ]
          },
          "metadata": {},
          "execution_count": 127
        }
      ]
    },
    {
      "cell_type": "code",
      "source": [
        "total=prod.sum()\n",
        "total"
      ],
      "metadata": {
        "colab": {
          "base_uri": "https://localhost:8080/"
        },
        "id": "3PD2M5I1R5no",
        "outputId": "bd3dae0f-7526-4421-9a5c-64f123a3aa97"
      },
      "execution_count": 131,
      "outputs": [
        {
          "output_type": "execute_result",
          "data": {
            "text/plain": [
              "78490994.45"
            ]
          },
          "metadata": {},
          "execution_count": 131
        }
      ]
    },
    {
      "cell_type": "code",
      "source": [
        "se=round(prod.Set/total *100,2)\n",
        "kur=round(prod.kurta/total *100,2)\n",
        "wsd=round(11208419.41/total *100,2)\n",
        "top=round(prod.Top/total *100,2)\n",
        "top"
      ],
      "metadata": {
        "colab": {
          "base_uri": "https://localhost:8080/"
        },
        "id": "sL4G5H-6P6qp",
        "outputId": "79cd19f5-bffc-4294-a8a7-b05afe304185"
      },
      "execution_count": 164,
      "outputs": [
        {
          "output_type": "execute_result",
          "data": {
            "text/plain": [
              "6.81"
            ]
          },
          "metadata": {},
          "execution_count": 164
        }
      ]
    },
    {
      "cell_type": "code",
      "source": [
        "# Size of the figure\n",
        "from matplotlib.pyplot import figure\n",
        "figure(figsize=(8,7), dpi=80)\n",
        "\n",
        "# Style and Color\n",
        "sns.set_style(style='whitegrid')\n",
        "color=sns.color_palette(\"colorblind\",desat=0.8)[1]\n",
        "\n",
        "# Plotting\n",
        "prod.plot.bar(color=color,width=1)\n",
        "\n",
        "# Figure and Axis\n",
        "fig=plt.gcf()\n",
        "ax=plt.gca()\n",
        "\n",
        "# X and Y labels\n",
        "ax.set_xlabel('Product Category',fontsize=12,labelpad=3)\n",
        "ax.set_ylabel('Revenue in 10,00,000 (0.1 cr) INR ',fontsize=12,labelpad=3);\n",
        "\n",
        "# x and y ticks\n",
        "plt.xticks(rotation=45)\n",
        "ax.yaxis.set_ticklabels(list(range(0,45,5)))\n",
        "\n",
        "# Spines\n",
        "ax.spines['top'].set_visible(False)\n",
        "ax.spines['right'].set_visible(False)\n",
        "ax.spines['left'].set_visible(False)\n",
        "ax.spines['bottom'].set_linewidth(0.5)\n",
        "ax.spines['bottom'].set_color('black')\n",
        "\n",
        "# Title\n",
        "ax.set_title(\"Sales per Product Category\",fontdict={'fontsize': 18,\n",
        " 'fontweight': 5,\n",
        " 'color': 'black',\n",
        " 'verticalalignment': 'baseline'},x=.19, y=1.05)\n",
        "ax.text(-.08, 1.02, 'Q2 FY22', fontsize=15, color='#878787', transform=ax.transAxes)\n",
        "\n",
        "# Adding percentages\n",
        "plt.text(0, prod.Set-1000000, \"49.88%\",color='black',size=11,ha='center')\n",
        "plt.text(1, prod.kurta-1000000,\"27.09%\",color='black',size=11,ha='center')\n",
        "plt.text(2, prod['Western Dress']-1000000, \"14.28%\",color='black',size=11,ha='center')\n",
        "plt.text(3, prod.Top-1000000, \"6.81%\",color='black',size=11,ha='center')\n",
        "\n",
        "# Remaining percentage\n",
        "xvalues=[[4],[8]]\n",
        "yvalues=[[3000000],[3000000]]\n",
        "plt.plot(xvalues,yvalues, color='black', marker='o', linestyle='dashed', markersize=4)\n",
        "plt.text(6,4000000,\"1.94%\",color='black',size=11,ha='center')\n",
        "\n",
        "# Total Sale\n",
        "plt.text(7.5,37000000,\"Total: 7.8 cr\",color='black',size=11,ha='center')"
      ],
      "metadata": {
        "id": "MscQ0n8KOPvq",
        "colab": {
          "base_uri": "https://localhost:8080/",
          "height": 647
        },
        "outputId": "8e18f338-741d-41c1-d5d7-04260430ea7d"
      },
      "execution_count": 183,
      "outputs": [
        {
          "output_type": "stream",
          "name": "stderr",
          "text": [
            "<ipython-input-183-616c11442aed>:22: UserWarning: FixedFormatter should only be used together with FixedLocator\n",
            "  ax.yaxis.set_ticklabels(list(range(0,45,5)))\n"
          ]
        },
        {
          "output_type": "execute_result",
          "data": {
            "text/plain": [
              "Text(7.5, 37000000, 'Total: 7.8 cr')"
            ]
          },
          "metadata": {},
          "execution_count": 183
        },
        {
          "output_type": "display_data",
          "data": {
            "text/plain": [
              "<Figure size 640x560 with 1 Axes>"
            ],
            "image/png": "[encoded data removed]"
          },
          "metadata": {}
        }
      ]
    },
    {
      "cell_type": "markdown",
      "source": [
        "#### Question 3: The average order quantity for different product categories?"
      ],
      "metadata": {
        "id": "uZAv1Q0KRzqN"
      }
    },
    {
      "cell_type": "code",
      "source": [
        "ord=df[['Category','Qty']]\n",
        "ord.head()"
      ],
      "metadata": {
        "id": "As8qpM7KR3HH",
        "colab": {
          "base_uri": "https://localhost:8080/",
          "height": 206
        },
        "outputId": "bb4e7222-db6a-4216-e224-3287d647e071"
      },
      "execution_count": 189,
      "outputs": [
        {
          "output_type": "execute_result",
          "data": {
            "text/plain": [
              "        Category  Qty\n",
              "0            Set  0.0\n",
              "1          kurta  1.0\n",
              "2          kurta  1.0\n",
              "3  Western Dress  0.0\n",
              "4            Top  1.0"
            ],
            "text/html": [
              "\n",
              "  <div id=\"df-c4204198-9afd-4840-abf5-1bfd42b36cc7\">\n",
              "    <div class=\"colab-df-container\">\n",
              "      <div>\n",
              "<style scoped>\n",
              "    .dataframe tbody tr th:only-of-type {\n",
              "        vertical-align: middle;\n",
              "    }\n",
              "\n",
              "    .dataframe tbody tr th {\n",
              "        vertical-align: top;\n",
              "    }\n",
              "\n",
              "    .dataframe thead th {\n",
              "        text-align: right;\n",
              "    }\n",
              "</style>\n",
              "<table border=\"1\" class=\"dataframe\">\n",
              "  <thead>\n",
              "    <tr style=\"text-align: right;\">\n",
              "      <th></th>\n",
              "      <th>Category</th>\n",
              "      <th>Qty</th>\n",
              "    </tr>\n",
              "  </thead>\n",
              "  <tbody>\n",
              "    <tr>\n",
              "      <th>0</th>\n",
              "      <td>Set</td>\n",
              "      <td>0.0</td>\n",
              "    </tr>\n",
              "    <tr>\n",
              "      <th>1</th>\n",
              "      <td>kurta</td>\n",
              "      <td>1.0</td>\n",
              "    </tr>\n",
              "    <tr>\n",
              "      <th>2</th>\n",
              "      <td>kurta</td>\n",
              "      <td>1.0</td>\n",
              "    </tr>\n",
              "    <tr>\n",
              "      <th>3</th>\n",
              "      <td>Western Dress</td>\n",
              "      <td>0.0</td>\n",
              "    </tr>\n",
              "    <tr>\n",
              "      <th>4</th>\n",
              "      <td>Top</td>\n",
              "      <td>1.0</td>\n",
              "    </tr>\n",
              "  </tbody>\n",
              "</table>\n",
              "</div>\n",
              "      <button class=\"colab-df-convert\" onclick=\"convertToInteractive('df-c4204198-9afd-4840-abf5-1bfd42b36cc7')\"\n",
              "              title=\"Convert this dataframe to an interactive table.\"\n",
              "              style=\"display:none;\">\n",
              "        \n",
              "  <svg xmlns=\"http://www.w3.org/2000/svg\" height=\"24px\"viewBox=\"0 0 24 24\"\n",
              "       width=\"24px\">\n",
              "    <path d=\"M0 0h24v24H0V0z\" fill=\"none\"/>\n",
              "    <path d=\"M18.56 5.44l.94 2.06.94-2.06 2.06-.94-2.06-.94-.94-2.06-.94 2.06-2.06.94zm-11 1L8.5 8.5l.94-2.06 2.06-.94-2.06-.94L8.5 2.5l-.94 2.06-2.06.94zm10 10l.94 2.06.94-2.06 2.06-.94-2.06-.94-.94-2.06-.94 2.06-2.06.94z\"/><path d=\"M17.41 7.96l-1.37-1.37c-.4-.4-.92-.59-1.43-.59-.52 0-1.04.2-1.43.59L10.3 9.45l-7.72 7.72c-.78.78-.78 2.05 0 2.83L4 21.41c.39.39.9.59 1.41.59.51 0 1.02-.2 1.41-.59l7.78-7.78 2.81-2.81c.8-.78.8-2.07 0-2.86zM5.41 20L4 18.59l7.72-7.72 1.47 1.35L5.41 20z\"/>\n",
              "  </svg>\n",
              "      </button>\n",
              "      \n",
              "  <style>\n",
              "    .colab-df-container {\n",
              "      display:flex;\n",
              "      flex-wrap:wrap;\n",
              "      gap: 12px;\n",
              "    }\n",
              "\n",
              "    .colab-df-convert {\n",
              "      background-color: #E8F0FE;\n",
              "      border: none;\n",
              "      border-radius: 50%;\n",
              "      cursor: pointer;\n",
              "      display: none;\n",
              "      fill: #1967D2;\n",
              "      height: 32px;\n",
              "      padding: 0 0 0 0;\n",
              "      width: 32px;\n",
              "    }\n",
              "\n",
              "    .colab-df-convert:hover {\n",
              "      background-color: #E2EBFA;\n",
              "      box-shadow: 0px 1px 2px rgba(60, 64, 67, 0.3), 0px 1px 3px 1px rgba(60, 64, 67, 0.15);\n",
              "      fill: #174EA6;\n",
              "    }\n",
              "\n",
              "    [theme=dark] .colab-df-convert {\n",
              "      background-color: #3B4455;\n",
              "      fill: #D2E3FC;\n",
              "    }\n",
              "\n",
              "    [theme=dark] .colab-df-convert:hover {\n",
              "      background-color: #434B5C;\n",
              "      box-shadow: 0px 1px 3px 1px rgba(0, 0, 0, 0.15);\n",
              "      filter: drop-shadow(0px 1px 2px rgba(0, 0, 0, 0.3));\n",
              "      fill: #FFFFFF;\n",
              "    }\n",
              "  </style>\n",
              "\n",
              "      <script>\n",
              "        const buttonEl =\n",
              "          document.querySelector('#df-c4204198-9afd-4840-abf5-1bfd42b36cc7 button.colab-df-convert');\n",
              "        buttonEl.style.display =\n",
              "          google.colab.kernel.accessAllowed ? 'block' : 'none';\n",
              "\n",
              "        async function convertToInteractive(key) {\n",
              "          const element = document.querySelector('#df-c4204198-9afd-4840-abf5-1bfd42b36cc7');\n",
              "          const dataTable =\n",
              "            await google.colab.kernel.invokeFunction('convertToInteractive',\n",
              "                                                     [key], {});\n",
              "          if (!dataTable) return;\n",
              "\n",
              "          const docLinkHtml = 'Like what you see? Visit the ' +\n",
              "            '<a target=\"_blank\" href=https://colab.research.google.com/notebooks/data_table.ipynb>data table notebook</a>'\n",
              "            + ' to learn more about interactive tables.';\n",
              "          element.innerHTML = '';\n",
              "          dataTable['output_type'] = 'display_data';\n",
              "          await google.colab.output.renderOutput(dataTable, element);\n",
              "          const docLink = document.createElement('div');\n",
              "          docLink.innerHTML = docLinkHtml;\n",
              "          element.appendChild(docLink);\n",
              "        }\n",
              "      </script>\n",
              "    </div>\n",
              "  </div>\n",
              "  "
            ]
          },
          "metadata": {},
          "execution_count": 189
        }
      ]
    },
    {
      "cell_type": "code",
      "source": [
        "ord=ord.groupby('Category')['Qty'].mean()\n",
        "ord"
      ],
      "metadata": {
        "id": "20Vmc-uMR4ES",
        "colab": {
          "base_uri": "https://localhost:8080/"
        },
        "outputId": "df700c3e-e0d5-4b8c-e319-d127b8f6f118"
      },
      "execution_count": 191,
      "outputs": [
        {
          "output_type": "execute_result",
          "data": {
            "text/plain": [
              "Category\n",
              "Blouse           0.931892\n",
              "Bottom           0.904545\n",
              "Dupatta          1.000000\n",
              "Ethnic Dress     0.908463\n",
              "Saree            0.926829\n",
              "Set              0.900655\n",
              "Top              0.932253\n",
              "Western Dress    0.899684\n",
              "kurta            0.903074\n",
              "Name: Qty, dtype: float64"
            ]
          },
          "metadata": {},
          "execution_count": 191
        }
      ]
    },
    {
      "cell_type": "code",
      "source": [],
      "metadata": {
        "id": "58oy95LqR3M3"
      },
      "execution_count": null,
      "outputs": []
    },
    {
      "cell_type": "markdown",
      "source": [
        "#### Question 4: The distribution of sales revenue across different size variations within a specific style or category/ any size preferences among customers that impact sales"
      ],
      "metadata": {
        "id": "_TsIvOgySHf7"
      }
    },
    {
      "cell_type": "code",
      "source": [
        "df.Size.value_counts().plot(kind='bar')\n",
        "sns.set()"
      ],
      "metadata": {
        "colab": {
          "base_uri": "https://localhost:8080/",
          "height": 445
        },
        "id": "DImyRPYPNa_S",
        "outputId": "75f0df88-6c41-430f-be72-02a2810c7d15"
      },
      "execution_count": 184,
      "outputs": [
        {
          "output_type": "display_data",
          "data": {
            "text/plain": [
              "<Figure size 640x480 with 1 Axes>"
            ],
            "image/png": "[encoded data removed]"
          },
          "metadata": {}
        }
      ]
    },
    {
      "cell_type": "code",
      "source": [],
      "metadata": {
        "id": "alDIWuR9SeXl"
      },
      "execution_count": null,
      "outputs": []
    },
    {
      "cell_type": "code",
      "source": [],
      "metadata": {
        "id": "5TdUKmloSfL4"
      },
      "execution_count": null,
      "outputs": []
    },
    {
      "cell_type": "code",
      "source": [],
      "metadata": {
        "id": "TDfnjh_HSfFN"
      },
      "execution_count": null,
      "outputs": []
    },
    {
      "cell_type": "code",
      "source": [],
      "metadata": {
        "id": "Y1srrr0WSe81"
      },
      "execution_count": null,
      "outputs": []
    },
    {
      "cell_type": "markdown",
      "source": [
        "#### Question5: Any associations between specific ship-cities or ship-states and popular product categories or styles"
      ],
      "metadata": {
        "id": "FuoYZFJqSo8R"
      }
    },
    {
      "cell_type": "code",
      "source": [],
      "metadata": {
        "id": "VbxUnQOHSxCN"
      },
      "execution_count": null,
      "outputs": []
    },
    {
      "cell_type": "code",
      "source": [],
      "metadata": {
        "id": "x_HXefTTSxr7"
      },
      "execution_count": null,
      "outputs": []
    },
    {
      "cell_type": "code",
      "source": [],
      "metadata": {
        "id": "ftvJJpA2Sxoi"
      },
      "execution_count": null,
      "outputs": []
    },
    {
      "cell_type": "code",
      "source": [],
      "metadata": {
        "id": "xselIwFXSxmG"
      },
      "execution_count": null,
      "outputs": []
    },
    {
      "cell_type": "markdown",
      "source": [
        "# problems faced\n",
        "missing amount data\n",
        " tackled by some exploration and concluding that 97% amount was missing for the cancelled orders hence can be put 0"
      ],
      "metadata": {
        "id": "Ygc395vUZJta"
      }
    },
    {
      "cell_type": "markdown",
      "source": [
        "#Questions\n",
        "sizes in demand/sales by product size\n",
        "\n",
        "cities/states with highest orders\n",
        "\n",
        "Product category distribution\n",
        "\n",
        "shipping state for a particular category western dresses/set/kurta/ ethnic dress\n",
        "\n",
        "distribution of amount/ for a particular category/ distribution of amount for  top 5 categories\n",
        "\n",
        "top 5 ship state total amount distribution\n",
        "\n",
        "top 5 ship city total amount distribution\n",
        "\n",
        "Amazon india net revenue for Q2\n",
        "\n",
        "Average monthly order amount\n",
        "\n",
        "Top product revenue by month\n",
        "\n",
        "Percentage of revenue due to top 5 categories\n",
        "\n",
        "\n",
        "\n",
        "\n"
      ],
      "metadata": {
        "id": "u1iYZu3QS5EW"
      }
    }
  ]
}
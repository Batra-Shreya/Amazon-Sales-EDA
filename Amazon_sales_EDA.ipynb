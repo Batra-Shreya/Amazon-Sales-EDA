{
  "nbformat": 4,
  "nbformat_minor": 0,
  "metadata": {
    "colab": {
      "provenance": [],
      "authorship_tag": "ABX9TyMiGoBtExjTJUspQb5oOCgH"
    },
    "kernelspec": {
      "name": "python3",
      "display_name": "Python 3"
    },
    "language_info": {
      "name": "python"
    }
  },
  "cells": [
    {
      "cell_type": "markdown",
      "source": [
        "Report:\n",
        "\n",
        "\n",
        "1.   Business problem/ problem statement\n",
        "2.   Assumptions\n",
        "3.   Research questions\n",
        "4.   hypothesis\n",
        "5.   Analysis and findings\n",
        "6.   suggestions"
      ],
      "metadata": {
        "id": "jqWUv0_QSpzZ"
      }
    },
    {
      "cell_type": "markdown",
      "source": [
        "# **Amazon Sales EDA**\n",
        "\n"
      ],
      "metadata": {
        "id": "F1_CiT66SqCU"
      }
    },
    {
      "cell_type": "markdown",
      "source": [
        "### Exploratory Data Analysis (EDA) is the process of examining and analyzing data sets to summarize their main characteristics using visual methods and descriptive statistics. The goal of EDA is to gain an understanding of the data and to identify patterns, relationships, and anomalies that can provide insights into the underlying structure of the data.\n",
        "\n",
        "### The dataset(Source,Content,Use)\n",
        "  *   Link below\n",
        "  *   Contains data about sales of Amazon\n",
        "  *   Can be used to get insights into the various parameters that affect the sales.\n",
        "\n",
        "###Dataset: https://data.world/anilsharma87/sales/file/Amazon%20Sale%20Report.xlsx  \n",
        "\n",
        "The dataset consists of 128974 rows\n",
        "\n",
        "For dataset description refer the report\n",
        "\n",
        "Goal - Increase revenue and improve product category performance\n"
      ],
      "metadata": {
        "id": "A9_qZ5ogbeao"
      }
    },
    {
      "cell_type": "markdown",
      "source": [
        "##Step 1: Select and Download the data"
      ],
      "metadata": {
        "id": "O6F61d_lkUxr"
      }
    },
    {
      "cell_type": "code",
      "source": [
        "from google.colab import files\n",
        "files.upload()"
      ],
      "metadata": {
        "id": "bYSyyNMonrE0"
      },
      "execution_count": null,
      "outputs": []
    },
    {
      "cell_type": "code",
      "source": [
        "!mkdir ~/.kaggle\n",
        "!cp kaggle.json ~/.kaggle/\n",
        "!chmod 600 ~/.kaggle/kaggle.json\n",
        "!kaggle datasets download -d thedevastator/unlock-profits-with-e-commerce-sales-data"
      ],
      "metadata": {
        "id": "BhDTTdzrkUOv",
        "colab": {
          "base_uri": "https://localhost:8080/"
        },
        "outputId": "86d46095-809d-4ff5-ff49-3a5b93de20c4"
      },
      "execution_count": null,
      "outputs": [
        {
          "output_type": "stream",
          "name": "stdout",
          "text": [
            "Downloading unlock-profits-with-e-commerce-sales-data.zip to /content\n",
            "\r  0% 0.00/6.33M [00:00<?, ?B/s]\n",
            "\r100% 6.33M/6.33M [00:00<00:00, 76.1MB/s]\n"
          ]
        }
      ]
    },
    {
      "cell_type": "code",
      "source": [
        "!unzip \\*.zip"
      ],
      "metadata": {
        "colab": {
          "base_uri": "https://localhost:8080/"
        },
        "id": "8AVWjwgPn7GT",
        "outputId": "561697cd-4fc1-4ae7-d206-4cc2d7d30715"
      },
      "execution_count": null,
      "outputs": [
        {
          "output_type": "stream",
          "name": "stdout",
          "text": [
            "Archive:  unlock-profits-with-e-commerce-sales-data.zip\n",
            "  inflating: Amazon Sale Report.csv  \n",
            "  inflating: Cloud Warehouse Compersion Chart.csv  \n",
            "  inflating: Expense IIGF.csv        \n",
            "  inflating: International sale Report.csv  \n",
            "  inflating: May-2022.csv            \n",
            "  inflating: P  L March 2021.csv     \n",
            "  inflating: Sale Report.csv         \n"
          ]
        }
      ]
    },
    {
      "cell_type": "markdown",
      "source": [
        "## Step 2: Data preparation and cleaning\n",
        "\n",
        "\n",
        "1.   Load the file using pandas\n",
        "2.   Look at some information about the data and columns\n",
        "3.   Fix any missing or incorrect values\n",
        "\n"
      ],
      "metadata": {
        "id": "TfCzVMIZoDHF"
      }
    },
    {
      "cell_type": "code",
      "source": [
        "# importing the necessary libraries\n",
        "import pandas as pd\n",
        "import numpy as np\n",
        "import matplotlib.pyplot as plt\n",
        "import seaborn as sns"
      ],
      "metadata": {
        "id": "DfqksqJ9oiP1"
      },
      "execution_count": null,
      "outputs": []
    },
    {
      "cell_type": "code",
      "source": [
        "df= pd.read_csv(\"/content/Amazon Sale Report.csv\")"
      ],
      "metadata": {
        "colab": {
          "base_uri": "https://localhost:8080/"
        },
        "id": "11EYLr3ZprrZ",
        "outputId": "2b7ae78b-d821-4435-9661-dfbb55f96dca"
      },
      "execution_count": null,
      "outputs": [
        {
          "output_type": "stream",
          "name": "stderr",
          "text": [
            "<ipython-input-6-98c1c05dfed4>:1: DtypeWarning: Columns (23) have mixed types. Specify dtype option on import or set low_memory=False.\n",
            "  df= pd.read_csv(\"/content/Amazon Sale Report.csv\")\n"
          ]
        }
      ]
    },
    {
      "cell_type": "code",
      "source": [
        "df.head()"
      ],
      "metadata": {
        "colab": {
          "base_uri": "https://localhost:8080/",
          "height": 577
        },
        "id": "jveMpdy8pz27",
        "outputId": "5d68d6b5-5ad3-448a-b98a-b5c8d2bcb088"
      },
      "execution_count": null,
      "outputs": [
        {
          "output_type": "execute_result",
          "data": {
            "text/plain": [
              "   index             Order ID      Date                        Status  \\\n",
              "0      0  405-8078784-5731545  04-30-22                     Cancelled   \n",
              "1      1  171-9198151-1101146  04-30-22  Shipped - Delivered to Buyer   \n",
              "2      2  404-0687676-7273146  04-30-22                       Shipped   \n",
              "3      3  403-9615377-8133951  04-30-22                     Cancelled   \n",
              "4      4  407-1069790-7240320  04-30-22                       Shipped   \n",
              "\n",
              "  Fulfilment Sales Channel  ship-service-level    Style              SKU  \\\n",
              "0   Merchant      Amazon.in           Standard   SET389   SET389-KR-NP-S   \n",
              "1   Merchant      Amazon.in           Standard  JNE3781  JNE3781-KR-XXXL   \n",
              "2     Amazon      Amazon.in          Expedited  JNE3371    JNE3371-KR-XL   \n",
              "3   Merchant      Amazon.in           Standard    J0341       J0341-DR-L   \n",
              "4     Amazon      Amazon.in          Expedited  JNE3671  JNE3671-TU-XXXL   \n",
              "\n",
              "        Category  ... currency  Amount    ship-city   ship-state  \\\n",
              "0            Set  ...      INR  647.62       MUMBAI  MAHARASHTRA   \n",
              "1          kurta  ...      INR  406.00    BENGALURU    KARNATAKA   \n",
              "2          kurta  ...      INR  329.00  NAVI MUMBAI  MAHARASHTRA   \n",
              "3  Western Dress  ...      INR  753.33   PUDUCHERRY   PUDUCHERRY   \n",
              "4            Top  ...      INR  574.00      CHENNAI   TAMIL NADU   \n",
              "\n",
              "  ship-postal-code  ship-country  \\\n",
              "0         400081.0            IN   \n",
              "1         560085.0            IN   \n",
              "2         410210.0            IN   \n",
              "3         605008.0            IN   \n",
              "4         600073.0            IN   \n",
              "\n",
              "                                       promotion-ids    B2B  fulfilled-by  \\\n",
              "0                                                NaN  False     Easy Ship   \n",
              "1  Amazon PLCC Free-Financing Universal Merchant ...  False     Easy Ship   \n",
              "2       IN Core Free Shipping 2015/04/08 23-48-5-108   True           NaN   \n",
              "3                                                NaN  False     Easy Ship   \n",
              "4                                                NaN  False           NaN   \n",
              "\n",
              "  Unnamed: 22  \n",
              "0         NaN  \n",
              "1         NaN  \n",
              "2         NaN  \n",
              "3         NaN  \n",
              "4         NaN  \n",
              "\n",
              "[5 rows x 24 columns]"
            ],
            "text/html": [
              "\n",
              "  <div id=\"df-be9ea5e7-4ce0-4fb0-a93a-b57d7f7402bd\">\n",
              "    <div class=\"colab-df-container\">\n",
              "      <div>\n",
              "<style scoped>\n",
              "    .dataframe tbody tr th:only-of-type {\n",
              "        vertical-align: middle;\n",
              "    }\n",
              "\n",
              "    .dataframe tbody tr th {\n",
              "        vertical-align: top;\n",
              "    }\n",
              "\n",
              "    .dataframe thead th {\n",
              "        text-align: right;\n",
              "    }\n",
              "</style>\n",
              "<table border=\"1\" class=\"dataframe\">\n",
              "  <thead>\n",
              "    <tr style=\"text-align: right;\">\n",
              "      <th></th>\n",
              "      <th>index</th>\n",
              "      <th>Order ID</th>\n",
              "      <th>Date</th>\n",
              "      <th>Status</th>\n",
              "      <th>Fulfilment</th>\n",
              "      <th>Sales Channel</th>\n",
              "      <th>ship-service-level</th>\n",
              "      <th>Style</th>\n",
              "      <th>SKU</th>\n",
              "      <th>Category</th>\n",
              "      <th>...</th>\n",
              "      <th>currency</th>\n",
              "      <th>Amount</th>\n",
              "      <th>ship-city</th>\n",
              "      <th>ship-state</th>\n",
              "      <th>ship-postal-code</th>\n",
              "      <th>ship-country</th>\n",
              "      <th>promotion-ids</th>\n",
              "      <th>B2B</th>\n",
              "      <th>fulfilled-by</th>\n",
              "      <th>Unnamed: 22</th>\n",
              "    </tr>\n",
              "  </thead>\n",
              "  <tbody>\n",
              "    <tr>\n",
              "      <th>0</th>\n",
              "      <td>0</td>\n",
              "      <td>405-8078784-5731545</td>\n",
              "      <td>04-30-22</td>\n",
              "      <td>Cancelled</td>\n",
              "      <td>Merchant</td>\n",
              "      <td>Amazon.in</td>\n",
              "      <td>Standard</td>\n",
              "      <td>SET389</td>\n",
              "      <td>SET389-KR-NP-S</td>\n",
              "      <td>Set</td>\n",
              "      <td>...</td>\n",
              "      <td>INR</td>\n",
              "      <td>647.62</td>\n",
              "      <td>MUMBAI</td>\n",
              "      <td>MAHARASHTRA</td>\n",
              "      <td>400081.0</td>\n",
              "      <td>IN</td>\n",
              "      <td>NaN</td>\n",
              "      <td>False</td>\n",
              "      <td>Easy Ship</td>\n",
              "      <td>NaN</td>\n",
              "    </tr>\n",
              "    <tr>\n",
              "      <th>1</th>\n",
              "      <td>1</td>\n",
              "      <td>171-9198151-1101146</td>\n",
              "      <td>04-30-22</td>\n",
              "      <td>Shipped - Delivered to Buyer</td>\n",
              "      <td>Merchant</td>\n",
              "      <td>Amazon.in</td>\n",
              "      <td>Standard</td>\n",
              "      <td>JNE3781</td>\n",
              "      <td>JNE3781-KR-XXXL</td>\n",
              "      <td>kurta</td>\n",
              "      <td>...</td>\n",
              "      <td>INR</td>\n",
              "      <td>406.00</td>\n",
              "      <td>BENGALURU</td>\n",
              "      <td>KARNATAKA</td>\n",
              "      <td>560085.0</td>\n",
              "      <td>IN</td>\n",
              "      <td>Amazon PLCC Free-Financing Universal Merchant ...</td>\n",
              "      <td>False</td>\n",
              "      <td>Easy Ship</td>\n",
              "      <td>NaN</td>\n",
              "    </tr>\n",
              "    <tr>\n",
              "      <th>2</th>\n",
              "      <td>2</td>\n",
              "      <td>404-0687676-7273146</td>\n",
              "      <td>04-30-22</td>\n",
              "      <td>Shipped</td>\n",
              "      <td>Amazon</td>\n",
              "      <td>Amazon.in</td>\n",
              "      <td>Expedited</td>\n",
              "      <td>JNE3371</td>\n",
              "      <td>JNE3371-KR-XL</td>\n",
              "      <td>kurta</td>\n",
              "      <td>...</td>\n",
              "      <td>INR</td>\n",
              "      <td>329.00</td>\n",
              "      <td>NAVI MUMBAI</td>\n",
              "      <td>MAHARASHTRA</td>\n",
              "      <td>410210.0</td>\n",
              "      <td>IN</td>\n",
              "      <td>IN Core Free Shipping 2015/04/08 23-48-5-108</td>\n",
              "      <td>True</td>\n",
              "      <td>NaN</td>\n",
              "      <td>NaN</td>\n",
              "    </tr>\n",
              "    <tr>\n",
              "      <th>3</th>\n",
              "      <td>3</td>\n",
              "      <td>403-9615377-8133951</td>\n",
              "      <td>04-30-22</td>\n",
              "      <td>Cancelled</td>\n",
              "      <td>Merchant</td>\n",
              "      <td>Amazon.in</td>\n",
              "      <td>Standard</td>\n",
              "      <td>J0341</td>\n",
              "      <td>J0341-DR-L</td>\n",
              "      <td>Western Dress</td>\n",
              "      <td>...</td>\n",
              "      <td>INR</td>\n",
              "      <td>753.33</td>\n",
              "      <td>PUDUCHERRY</td>\n",
              "      <td>PUDUCHERRY</td>\n",
              "      <td>605008.0</td>\n",
              "      <td>IN</td>\n",
              "      <td>NaN</td>\n",
              "      <td>False</td>\n",
              "      <td>Easy Ship</td>\n",
              "      <td>NaN</td>\n",
              "    </tr>\n",
              "    <tr>\n",
              "      <th>4</th>\n",
              "      <td>4</td>\n",
              "      <td>407-1069790-7240320</td>\n",
              "      <td>04-30-22</td>\n",
              "      <td>Shipped</td>\n",
              "      <td>Amazon</td>\n",
              "      <td>Amazon.in</td>\n",
              "      <td>Expedited</td>\n",
              "      <td>JNE3671</td>\n",
              "      <td>JNE3671-TU-XXXL</td>\n",
              "      <td>Top</td>\n",
              "      <td>...</td>\n",
              "      <td>INR</td>\n",
              "      <td>574.00</td>\n",
              "      <td>CHENNAI</td>\n",
              "      <td>TAMIL NADU</td>\n",
              "      <td>600073.0</td>\n",
              "      <td>IN</td>\n",
              "      <td>NaN</td>\n",
              "      <td>False</td>\n",
              "      <td>NaN</td>\n",
              "      <td>NaN</td>\n",
              "    </tr>\n",
              "  </tbody>\n",
              "</table>\n",
              "<p>5 rows × 24 columns</p>\n",
              "</div>\n",
              "      <button class=\"colab-df-convert\" onclick=\"convertToInteractive('df-be9ea5e7-4ce0-4fb0-a93a-b57d7f7402bd')\"\n",
              "              title=\"Convert this dataframe to an interactive table.\"\n",
              "              style=\"display:none;\">\n",
              "        \n",
              "  <svg xmlns=\"http://www.w3.org/2000/svg\" height=\"24px\"viewBox=\"0 0 24 24\"\n",
              "       width=\"24px\">\n",
              "    <path d=\"M0 0h24v24H0V0z\" fill=\"none\"/>\n",
              "    <path d=\"M18.56 5.44l.94 2.06.94-2.06 2.06-.94-2.06-.94-.94-2.06-.94 2.06-2.06.94zm-11 1L8.5 8.5l.94-2.06 2.06-.94-2.06-.94L8.5 2.5l-.94 2.06-2.06.94zm10 10l.94 2.06.94-2.06 2.06-.94-2.06-.94-.94-2.06-.94 2.06-2.06.94z\"/><path d=\"M17.41 7.96l-1.37-1.37c-.4-.4-.92-.59-1.43-.59-.52 0-1.04.2-1.43.59L10.3 9.45l-7.72 7.72c-.78.78-.78 2.05 0 2.83L4 21.41c.39.39.9.59 1.41.59.51 0 1.02-.2 1.41-.59l7.78-7.78 2.81-2.81c.8-.78.8-2.07 0-2.86zM5.41 20L4 18.59l7.72-7.72 1.47 1.35L5.41 20z\"/>\n",
              "  </svg>\n",
              "      </button>\n",
              "      \n",
              "  <style>\n",
              "    .colab-df-container {\n",
              "      display:flex;\n",
              "      flex-wrap:wrap;\n",
              "      gap: 12px;\n",
              "    }\n",
              "\n",
              "    .colab-df-convert {\n",
              "      background-color: #E8F0FE;\n",
              "      border: none;\n",
              "      border-radius: 50%;\n",
              "      cursor: pointer;\n",
              "      display: none;\n",
              "      fill: #1967D2;\n",
              "      height: 32px;\n",
              "      padding: 0 0 0 0;\n",
              "      width: 32px;\n",
              "    }\n",
              "\n",
              "    .colab-df-convert:hover {\n",
              "      background-color: #E2EBFA;\n",
              "      box-shadow: 0px 1px 2px rgba(60, 64, 67, 0.3), 0px 1px 3px 1px rgba(60, 64, 67, 0.15);\n",
              "      fill: #174EA6;\n",
              "    }\n",
              "\n",
              "    [theme=dark] .colab-df-convert {\n",
              "      background-color: #3B4455;\n",
              "      fill: #D2E3FC;\n",
              "    }\n",
              "\n",
              "    [theme=dark] .colab-df-convert:hover {\n",
              "      background-color: #434B5C;\n",
              "      box-shadow: 0px 1px 3px 1px rgba(0, 0, 0, 0.15);\n",
              "      filter: drop-shadow(0px 1px 2px rgba(0, 0, 0, 0.3));\n",
              "      fill: #FFFFFF;\n",
              "    }\n",
              "  </style>\n",
              "\n",
              "      <script>\n",
              "        const buttonEl =\n",
              "          document.querySelector('#df-be9ea5e7-4ce0-4fb0-a93a-b57d7f7402bd button.colab-df-convert');\n",
              "        buttonEl.style.display =\n",
              "          google.colab.kernel.accessAllowed ? 'block' : 'none';\n",
              "\n",
              "        async function convertToInteractive(key) {\n",
              "          const element = document.querySelector('#df-be9ea5e7-4ce0-4fb0-a93a-b57d7f7402bd');\n",
              "          const dataTable =\n",
              "            await google.colab.kernel.invokeFunction('convertToInteractive',\n",
              "                                                     [key], {});\n",
              "          if (!dataTable) return;\n",
              "\n",
              "          const docLinkHtml = 'Like what you see? Visit the ' +\n",
              "            '<a target=\"_blank\" href=https://colab.research.google.com/notebooks/data_table.ipynb>data table notebook</a>'\n",
              "            + ' to learn more about interactive tables.';\n",
              "          element.innerHTML = '';\n",
              "          dataTable['output_type'] = 'display_data';\n",
              "          await google.colab.output.renderOutput(dataTable, element);\n",
              "          const docLink = document.createElement('div');\n",
              "          docLink.innerHTML = docLinkHtml;\n",
              "          element.appendChild(docLink);\n",
              "        }\n",
              "      </script>\n",
              "    </div>\n",
              "  </div>\n",
              "  "
            ]
          },
          "metadata": {},
          "execution_count": 7
        }
      ]
    },
    {
      "cell_type": "code",
      "source": [
        "df.shape"
      ],
      "metadata": {
        "colab": {
          "base_uri": "https://localhost:8080/"
        },
        "id": "HPkOqPibtHup",
        "outputId": "c68daae2-515c-438f-e1d1-034ea69443cc"
      },
      "execution_count": null,
      "outputs": [
        {
          "output_type": "execute_result",
          "data": {
            "text/plain": [
              "(128975, 24)"
            ]
          },
          "metadata": {},
          "execution_count": 8
        }
      ]
    },
    {
      "cell_type": "code",
      "source": [
        "df.columns"
      ],
      "metadata": {
        "colab": {
          "base_uri": "https://localhost:8080/"
        },
        "id": "GpLra-kjp4Dv",
        "outputId": "329ac85b-13f6-46f6-a252-49824e16e883"
      },
      "execution_count": null,
      "outputs": [
        {
          "output_type": "execute_result",
          "data": {
            "text/plain": [
              "Index(['index', 'Order ID', 'Date', 'Status', 'Fulfilment', 'Sales Channel ',\n",
              "       'ship-service-level', 'Style', 'SKU', 'Category', 'Size', 'ASIN',\n",
              "       'Courier Status', 'Qty', 'currency', 'Amount', 'ship-city',\n",
              "       'ship-state', 'ship-postal-code', 'ship-country', 'promotion-ids',\n",
              "       'B2B', 'fulfilled-by', 'Unnamed: 22'],\n",
              "      dtype='object')"
            ]
          },
          "metadata": {},
          "execution_count": 9
        }
      ]
    },
    {
      "cell_type": "code",
      "source": [
        "df.columns = [c.replace(' ', '_') for c in df.columns]\n",
        "df.columns = [c.replace('-', '_') for c in df.columns]\n",
        "df.columns"
      ],
      "metadata": {
        "colab": {
          "base_uri": "https://localhost:8080/"
        },
        "id": "up4Ub5nvuGZM",
        "outputId": "eb94b9bc-4de0-43c9-fe12-07be4f02e17c"
      },
      "execution_count": null,
      "outputs": [
        {
          "output_type": "execute_result",
          "data": {
            "text/plain": [
              "Index(['index', 'Order_ID', 'Date', 'Status', 'Fulfilment', 'Sales_Channel_',\n",
              "       'ship_service_level', 'Style', 'SKU', 'Category', 'Size', 'ASIN',\n",
              "       'Courier_Status', 'Qty', 'currency', 'Amount', 'ship_city',\n",
              "       'ship_state', 'ship_postal_code', 'ship_country', 'promotion_ids',\n",
              "       'B2B', 'fulfilled_by', 'Unnamed:_22'],\n",
              "      dtype='object')"
            ]
          },
          "metadata": {},
          "execution_count": 10
        }
      ]
    },
    {
      "cell_type": "code",
      "source": [
        "df.drop(\"Unnamed:_22\", axis=1,inplace=True)"
      ],
      "metadata": {
        "id": "M9YxMD_4u-WE"
      },
      "execution_count": null,
      "outputs": []
    },
    {
      "cell_type": "code",
      "source": [
        "df.head(2)"
      ],
      "metadata": {
        "colab": {
          "base_uri": "https://localhost:8080/",
          "height": 292
        },
        "id": "c6EQE7eytFNs",
        "outputId": "7864b8ee-29ab-4f1c-fb5d-8681775a7f75"
      },
      "execution_count": null,
      "outputs": [
        {
          "output_type": "execute_result",
          "data": {
            "text/plain": [
              "   index             Order_ID      Date                        Status  \\\n",
              "0      0  405-8078784-5731545  04-30-22                     Cancelled   \n",
              "1      1  171-9198151-1101146  04-30-22  Shipped - Delivered to Buyer   \n",
              "\n",
              "  Fulfilment Sales_Channel_ ship_service_level    Style              SKU  \\\n",
              "0   Merchant      Amazon.in           Standard   SET389   SET389-KR-NP-S   \n",
              "1   Merchant      Amazon.in           Standard  JNE3781  JNE3781-KR-XXXL   \n",
              "\n",
              "  Category  ... Qty currency  Amount  ship_city   ship_state  \\\n",
              "0      Set  ...   0      INR  647.62     MUMBAI  MAHARASHTRA   \n",
              "1    kurta  ...   1      INR  406.00  BENGALURU    KARNATAKA   \n",
              "\n",
              "   ship_postal_code ship_country  \\\n",
              "0          400081.0           IN   \n",
              "1          560085.0           IN   \n",
              "\n",
              "                                       promotion_ids    B2B fulfilled_by  \n",
              "0                                                NaN  False    Easy Ship  \n",
              "1  Amazon PLCC Free-Financing Universal Merchant ...  False    Easy Ship  \n",
              "\n",
              "[2 rows x 23 columns]"
            ],
            "text/html": [
              "\n",
              "  <div id=\"df-61034940-b8b5-4a8c-b1a8-6413f8a20826\">\n",
              "    <div class=\"colab-df-container\">\n",
              "      <div>\n",
              "<style scoped>\n",
              "    .dataframe tbody tr th:only-of-type {\n",
              "        vertical-align: middle;\n",
              "    }\n",
              "\n",
              "    .dataframe tbody tr th {\n",
              "        vertical-align: top;\n",
              "    }\n",
              "\n",
              "    .dataframe thead th {\n",
              "        text-align: right;\n",
              "    }\n",
              "</style>\n",
              "<table border=\"1\" class=\"dataframe\">\n",
              "  <thead>\n",
              "    <tr style=\"text-align: right;\">\n",
              "      <th></th>\n",
              "      <th>index</th>\n",
              "      <th>Order_ID</th>\n",
              "      <th>Date</th>\n",
              "      <th>Status</th>\n",
              "      <th>Fulfilment</th>\n",
              "      <th>Sales_Channel_</th>\n",
              "      <th>ship_service_level</th>\n",
              "      <th>Style</th>\n",
              "      <th>SKU</th>\n",
              "      <th>Category</th>\n",
              "      <th>...</th>\n",
              "      <th>Qty</th>\n",
              "      <th>currency</th>\n",
              "      <th>Amount</th>\n",
              "      <th>ship_city</th>\n",
              "      <th>ship_state</th>\n",
              "      <th>ship_postal_code</th>\n",
              "      <th>ship_country</th>\n",
              "      <th>promotion_ids</th>\n",
              "      <th>B2B</th>\n",
              "      <th>fulfilled_by</th>\n",
              "    </tr>\n",
              "  </thead>\n",
              "  <tbody>\n",
              "    <tr>\n",
              "      <th>0</th>\n",
              "      <td>0</td>\n",
              "      <td>405-8078784-5731545</td>\n",
              "      <td>04-30-22</td>\n",
              "      <td>Cancelled</td>\n",
              "      <td>Merchant</td>\n",
              "      <td>Amazon.in</td>\n",
              "      <td>Standard</td>\n",
              "      <td>SET389</td>\n",
              "      <td>SET389-KR-NP-S</td>\n",
              "      <td>Set</td>\n",
              "      <td>...</td>\n",
              "      <td>0</td>\n",
              "      <td>INR</td>\n",
              "      <td>647.62</td>\n",
              "      <td>MUMBAI</td>\n",
              "      <td>MAHARASHTRA</td>\n",
              "      <td>400081.0</td>\n",
              "      <td>IN</td>\n",
              "      <td>NaN</td>\n",
              "      <td>False</td>\n",
              "      <td>Easy Ship</td>\n",
              "    </tr>\n",
              "    <tr>\n",
              "      <th>1</th>\n",
              "      <td>1</td>\n",
              "      <td>171-9198151-1101146</td>\n",
              "      <td>04-30-22</td>\n",
              "      <td>Shipped - Delivered to Buyer</td>\n",
              "      <td>Merchant</td>\n",
              "      <td>Amazon.in</td>\n",
              "      <td>Standard</td>\n",
              "      <td>JNE3781</td>\n",
              "      <td>JNE3781-KR-XXXL</td>\n",
              "      <td>kurta</td>\n",
              "      <td>...</td>\n",
              "      <td>1</td>\n",
              "      <td>INR</td>\n",
              "      <td>406.00</td>\n",
              "      <td>BENGALURU</td>\n",
              "      <td>KARNATAKA</td>\n",
              "      <td>560085.0</td>\n",
              "      <td>IN</td>\n",
              "      <td>Amazon PLCC Free-Financing Universal Merchant ...</td>\n",
              "      <td>False</td>\n",
              "      <td>Easy Ship</td>\n",
              "    </tr>\n",
              "  </tbody>\n",
              "</table>\n",
              "<p>2 rows × 23 columns</p>\n",
              "</div>\n",
              "      <button class=\"colab-df-convert\" onclick=\"convertToInteractive('df-61034940-b8b5-4a8c-b1a8-6413f8a20826')\"\n",
              "              title=\"Convert this dataframe to an interactive table.\"\n",
              "              style=\"display:none;\">\n",
              "        \n",
              "  <svg xmlns=\"http://www.w3.org/2000/svg\" height=\"24px\"viewBox=\"0 0 24 24\"\n",
              "       width=\"24px\">\n",
              "    <path d=\"M0 0h24v24H0V0z\" fill=\"none\"/>\n",
              "    <path d=\"M18.56 5.44l.94 2.06.94-2.06 2.06-.94-2.06-.94-.94-2.06-.94 2.06-2.06.94zm-11 1L8.5 8.5l.94-2.06 2.06-.94-2.06-.94L8.5 2.5l-.94 2.06-2.06.94zm10 10l.94 2.06.94-2.06 2.06-.94-2.06-.94-.94-2.06-.94 2.06-2.06.94z\"/><path d=\"M17.41 7.96l-1.37-1.37c-.4-.4-.92-.59-1.43-.59-.52 0-1.04.2-1.43.59L10.3 9.45l-7.72 7.72c-.78.78-.78 2.05 0 2.83L4 21.41c.39.39.9.59 1.41.59.51 0 1.02-.2 1.41-.59l7.78-7.78 2.81-2.81c.8-.78.8-2.07 0-2.86zM5.41 20L4 18.59l7.72-7.72 1.47 1.35L5.41 20z\"/>\n",
              "  </svg>\n",
              "      </button>\n",
              "      \n",
              "  <style>\n",
              "    .colab-df-container {\n",
              "      display:flex;\n",
              "      flex-wrap:wrap;\n",
              "      gap: 12px;\n",
              "    }\n",
              "\n",
              "    .colab-df-convert {\n",
              "      background-color: #E8F0FE;\n",
              "      border: none;\n",
              "      border-radius: 50%;\n",
              "      cursor: pointer;\n",
              "      display: none;\n",
              "      fill: #1967D2;\n",
              "      height: 32px;\n",
              "      padding: 0 0 0 0;\n",
              "      width: 32px;\n",
              "    }\n",
              "\n",
              "    .colab-df-convert:hover {\n",
              "      background-color: #E2EBFA;\n",
              "      box-shadow: 0px 1px 2px rgba(60, 64, 67, 0.3), 0px 1px 3px 1px rgba(60, 64, 67, 0.15);\n",
              "      fill: #174EA6;\n",
              "    }\n",
              "\n",
              "    [theme=dark] .colab-df-convert {\n",
              "      background-color: #3B4455;\n",
              "      fill: #D2E3FC;\n",
              "    }\n",
              "\n",
              "    [theme=dark] .colab-df-convert:hover {\n",
              "      background-color: #434B5C;\n",
              "      box-shadow: 0px 1px 3px 1px rgba(0, 0, 0, 0.15);\n",
              "      filter: drop-shadow(0px 1px 2px rgba(0, 0, 0, 0.3));\n",
              "      fill: #FFFFFF;\n",
              "    }\n",
              "  </style>\n",
              "\n",
              "      <script>\n",
              "        const buttonEl =\n",
              "          document.querySelector('#df-61034940-b8b5-4a8c-b1a8-6413f8a20826 button.colab-df-convert');\n",
              "        buttonEl.style.display =\n",
              "          google.colab.kernel.accessAllowed ? 'block' : 'none';\n",
              "\n",
              "        async function convertToInteractive(key) {\n",
              "          const element = document.querySelector('#df-61034940-b8b5-4a8c-b1a8-6413f8a20826');\n",
              "          const dataTable =\n",
              "            await google.colab.kernel.invokeFunction('convertToInteractive',\n",
              "                                                     [key], {});\n",
              "          if (!dataTable) return;\n",
              "\n",
              "          const docLinkHtml = 'Like what you see? Visit the ' +\n",
              "            '<a target=\"_blank\" href=https://colab.research.google.com/notebooks/data_table.ipynb>data table notebook</a>'\n",
              "            + ' to learn more about interactive tables.';\n",
              "          element.innerHTML = '';\n",
              "          dataTable['output_type'] = 'display_data';\n",
              "          await google.colab.output.renderOutput(dataTable, element);\n",
              "          const docLink = document.createElement('div');\n",
              "          docLink.innerHTML = docLinkHtml;\n",
              "          element.appendChild(docLink);\n",
              "        }\n",
              "      </script>\n",
              "    </div>\n",
              "  </div>\n",
              "  "
            ]
          },
          "metadata": {},
          "execution_count": 12
        }
      ]
    },
    {
      "cell_type": "code",
      "source": [
        "df.info()"
      ],
      "metadata": {
        "colab": {
          "base_uri": "https://localhost:8080/"
        },
        "id": "BxhRO1EPKXh4",
        "outputId": "bde1c264-1436-499d-cc8f-c67aa1e7e0c0"
      },
      "execution_count": null,
      "outputs": [
        {
          "output_type": "stream",
          "name": "stdout",
          "text": [
            "<class 'pandas.core.frame.DataFrame'>\n",
            "RangeIndex: 128975 entries, 0 to 128974\n",
            "Data columns (total 23 columns):\n",
            " #   Column              Non-Null Count   Dtype  \n",
            "---  ------              --------------   -----  \n",
            " 0   index               128975 non-null  int64  \n",
            " 1   Order_ID            128975 non-null  object \n",
            " 2   Date                128975 non-null  object \n",
            " 3   Status              128975 non-null  object \n",
            " 4   Fulfilment          128975 non-null  object \n",
            " 5   Sales_Channel_      128975 non-null  object \n",
            " 6   ship_service_level  128975 non-null  object \n",
            " 7   Style               128975 non-null  object \n",
            " 8   SKU                 128975 non-null  object \n",
            " 9   Category            128975 non-null  object \n",
            " 10  Size                128975 non-null  object \n",
            " 11  ASIN                128975 non-null  object \n",
            " 12  Courier_Status      122103 non-null  object \n",
            " 13  Qty                 128975 non-null  int64  \n",
            " 14  currency            121180 non-null  object \n",
            " 15  Amount              121180 non-null  float64\n",
            " 16  ship_city           128942 non-null  object \n",
            " 17  ship_state          128942 non-null  object \n",
            " 18  ship_postal_code    128942 non-null  float64\n",
            " 19  ship_country        128942 non-null  object \n",
            " 20  promotion_ids       79822 non-null   object \n",
            " 21  B2B                 128975 non-null  bool   \n",
            " 22  fulfilled_by        39277 non-null   object \n",
            "dtypes: bool(1), float64(2), int64(2), object(18)\n",
            "memory usage: 21.8+ MB\n"
          ]
        }
      ]
    },
    {
      "cell_type": "code",
      "source": [
        "df.isnull().sum()"
      ],
      "metadata": {
        "colab": {
          "base_uri": "https://localhost:8080/"
        },
        "id": "ZkD9BKXCwnM9",
        "outputId": "6d182d0a-4e16-47f6-deaa-285621efe455"
      },
      "execution_count": null,
      "outputs": [
        {
          "output_type": "execute_result",
          "data": {
            "text/plain": [
              "index                     0\n",
              "Order_ID                  0\n",
              "Date                      0\n",
              "Status                    0\n",
              "Fulfilment                0\n",
              "Sales_Channel_            0\n",
              "ship_service_level        0\n",
              "Style                     0\n",
              "SKU                       0\n",
              "Category                  0\n",
              "Size                      0\n",
              "ASIN                      0\n",
              "Courier_Status         6872\n",
              "Qty                       0\n",
              "currency               7795\n",
              "Amount                 7795\n",
              "ship_city                33\n",
              "ship_state               33\n",
              "ship_postal_code         33\n",
              "ship_country             33\n",
              "promotion_ids         49153\n",
              "B2B                       0\n",
              "fulfilled_by          89698\n",
              "dtype: int64"
            ]
          },
          "metadata": {},
          "execution_count": 14
        }
      ]
    },
    {
      "cell_type": "markdown",
      "source": [
        "### Exploring the data"
      ],
      "metadata": {
        "id": "ZHW2-ByvU5wU"
      }
    },
    {
      "cell_type": "code",
      "source": [
        "df['currency'].unique()"
      ],
      "metadata": {
        "colab": {
          "base_uri": "https://localhost:8080/"
        },
        "id": "0Rfn93ovrmB0",
        "outputId": "5a2a16ae-7007-44b5-f22b-d147f07d42b7"
      },
      "execution_count": null,
      "outputs": [
        {
          "output_type": "execute_result",
          "data": {
            "text/plain": [
              "array(['INR', nan], dtype=object)"
            ]
          },
          "metadata": {},
          "execution_count": 9
        }
      ]
    },
    {
      "cell_type": "code",
      "source": [
        "df['currency'].fillna(method='ffill',inplace=True)\n",
        "df['currency'].unique()"
      ],
      "metadata": {
        "colab": {
          "base_uri": "https://localhost:8080/"
        },
        "id": "lWU9yKtYtFKO",
        "outputId": "10e14846-a881-4e90-b42c-963df91bdf46"
      },
      "execution_count": null,
      "outputs": [
        {
          "output_type": "execute_result",
          "data": {
            "text/plain": [
              "array(['INR'], dtype=object)"
            ]
          },
          "metadata": {},
          "execution_count": 31
        }
      ]
    },
    {
      "cell_type": "code",
      "source": [
        "print(df['ship_country'].unique())\n",
        "df['ship_country'].isnull().sum()"
      ],
      "metadata": {
        "colab": {
          "base_uri": "https://localhost:8080/"
        },
        "id": "5VZxZJtMVdUv",
        "outputId": "ff67aee5-c969-4c46-8799-359e562980d3"
      },
      "execution_count": null,
      "outputs": [
        {
          "output_type": "stream",
          "name": "stdout",
          "text": [
            "['IN' nan]\n"
          ]
        },
        {
          "output_type": "execute_result",
          "data": {
            "text/plain": [
              "33"
            ]
          },
          "metadata": {},
          "execution_count": 46
        }
      ]
    },
    {
      "cell_type": "code",
      "source": [
        "df['Size'].unique()"
      ],
      "metadata": {
        "colab": {
          "base_uri": "https://localhost:8080/"
        },
        "id": "kSSMuiOqtFIE",
        "outputId": "264b4e6c-3d92-4f72-c3d8-fe88fbd7359a"
      },
      "execution_count": null,
      "outputs": [
        {
          "output_type": "execute_result",
          "data": {
            "text/plain": [
              "array(['S', '3XL', 'XL', 'L', 'XXL', 'XS', '6XL', 'M', '4XL', '5XL',\n",
              "       'Free'], dtype=object)"
            ]
          },
          "metadata": {},
          "execution_count": 32
        }
      ]
    },
    {
      "cell_type": "code",
      "source": [
        "df['Category'].unique()"
      ],
      "metadata": {
        "colab": {
          "base_uri": "https://localhost:8080/"
        },
        "id": "ASZNO28VtFFf",
        "outputId": "c6026cbd-860c-4bc5-ca86-cf0fba056e42"
      },
      "execution_count": null,
      "outputs": [
        {
          "output_type": "execute_result",
          "data": {
            "text/plain": [
              "array(['Set', 'kurta', 'Western Dress', 'Top', 'Ethnic Dress', 'Bottom',\n",
              "       'Saree', 'Blouse', 'Dupatta'], dtype=object)"
            ]
          },
          "metadata": {},
          "execution_count": 33
        }
      ]
    },
    {
      "cell_type": "code",
      "source": [
        "df['Date'].max()"
      ],
      "metadata": {
        "colab": {
          "base_uri": "https://localhost:8080/",
          "height": 36
        },
        "id": "WANgb6uSx0YU",
        "outputId": "5eeb4bdf-e635-4bc6-f999-6abf2546495b"
      },
      "execution_count": null,
      "outputs": [
        {
          "output_type": "execute_result",
          "data": {
            "text/plain": [
              "'06-29-22'"
            ],
            "application/vnd.google.colaboratory.intrinsic+json": {
              "type": "string"
            }
          },
          "metadata": {},
          "execution_count": 37
        }
      ]
    },
    {
      "cell_type": "code",
      "source": [
        "df['Date']"
      ],
      "metadata": {
        "colab": {
          "base_uri": "https://localhost:8080/"
        },
        "id": "p8IRRQ7mA05x",
        "outputId": "4137c3d1-e9dd-4ee2-b98c-867bcf774c33"
      },
      "execution_count": null,
      "outputs": [
        {
          "output_type": "execute_result",
          "data": {
            "text/plain": [
              "0         04-30-22\n",
              "1         04-30-22\n",
              "2         04-30-22\n",
              "3         04-30-22\n",
              "4         04-30-22\n",
              "            ...   \n",
              "128970    05-31-22\n",
              "128971    05-31-22\n",
              "128972    05-31-22\n",
              "128973    05-31-22\n",
              "128974    05-31-22\n",
              "Name: Date, Length: 128975, dtype: object"
            ]
          },
          "metadata": {},
          "execution_count": 39
        }
      ]
    },
    {
      "cell_type": "code",
      "source": [
        "df['Date'].min()"
      ],
      "metadata": {
        "colab": {
          "base_uri": "https://localhost:8080/",
          "height": 36
        },
        "id": "rE6cFjO5AruS",
        "outputId": "491ba748-5c3a-419a-9712-1aa6867088ee"
      },
      "execution_count": null,
      "outputs": [
        {
          "output_type": "execute_result",
          "data": {
            "text/plain": [
              "'03-31-22'"
            ],
            "application/vnd.google.colaboratory.intrinsic+json": {
              "type": "string"
            }
          },
          "metadata": {},
          "execution_count": 38
        }
      ]
    },
    {
      "cell_type": "code",
      "source": [
        "print(df['Sales_Channel_'].unique())\n",
        "df[df['Sales_Channel_']=='Non-Amazon'].count()"
      ],
      "metadata": {
        "colab": {
          "base_uri": "https://localhost:8080/"
        },
        "id": "FoU1mYI-Wc20",
        "outputId": "baad3b10-728b-47b8-f5ba-63f10fe91106"
      },
      "execution_count": null,
      "outputs": [
        {
          "output_type": "stream",
          "name": "stdout",
          "text": [
            "['Amazon.in' 'Non-Amazon']\n"
          ]
        },
        {
          "output_type": "execute_result",
          "data": {
            "text/plain": [
              "index                 124\n",
              "Order_ID              124\n",
              "Date                  124\n",
              "Status                124\n",
              "Fulfilment            124\n",
              "Sales_Channel_        124\n",
              "ship_service_level    124\n",
              "Style                 124\n",
              "SKU                   124\n",
              "Category              124\n",
              "Size                  124\n",
              "ASIN                  124\n",
              "Courier_Status        124\n",
              "Qty                   124\n",
              "currency              124\n",
              "Amount                  0\n",
              "ship_city             124\n",
              "ship_state            124\n",
              "ship_postal_code      124\n",
              "ship_country          124\n",
              "promotion_ids           0\n",
              "B2B                   124\n",
              "fulfilled_by            0\n",
              "dtype: int64"
            ]
          },
          "metadata": {},
          "execution_count": 52
        }
      ]
    },
    {
      "cell_type": "markdown",
      "source": [
        "### Some observations by looking at the dataset\n",
        "The dataset consists of 128974 entries and 23 columns\n",
        "\n",
        "1.   Size : the sizes vary from S to 5XL and freesize\n",
        "2.   Category : Many categories of products are present in this dataset, namely Set, kurta, Western Dress, Top, Ethnic Dress, Bottom,Saree, Blouse, Dupatta\n",
        "3.   Dates can be used for analysing the time period and sales, dates in the dataset vary from 03-31-22 to 06-29-22\n",
        "4.   Status\n",
        "5.   Fulfillment\n",
        "6.   Quantity\n",
        "7.   Amount\n",
        "8.   ship city and state\n",
        "9.   B2B\n",
        "10.  Country: the currency is only either INR or nan, so the country is India\n",
        "\n"
      ],
      "metadata": {
        "id": "gcqHGKZDqmKU"
      }
    },
    {
      "cell_type": "markdown",
      "source": [
        "# problems faced\n",
        "missing amount data\n",
        " tackled by some exploration and concluding that amount was missing for the cancelled orders hence can be put 0"
      ],
      "metadata": {
        "id": "Ygc395vUZJta"
      }
    },
    {
      "cell_type": "markdown",
      "source": [
        "#Questions\n",
        "sizes in demand/sales by product size\n",
        "\n",
        "cities/states with highest orders\n",
        "\n",
        "Product category distribution\n",
        "\n",
        "shipping state for a particular category western dresses/set/kurta/ ethnic dress\n",
        "\n",
        "distribution of amount/ for a particular category/ distribution of amount for  top 5 categories\n",
        "\n",
        "top 5 ship state total amount distribution\n",
        "\n",
        "top 5 ship city total amount distribution\n",
        "\n",
        "Amazon india net revenue for Q2\n",
        "\n",
        "Average monthly order amount\n",
        "\n",
        "Top product revenue by month\n",
        "\n",
        "Percentage of revenue due to top 5 categories\n",
        "\n",
        "\n",
        "\n",
        "\n"
      ],
      "metadata": {
        "id": "u1iYZu3QS5EW"
      }
    }
  ]
}